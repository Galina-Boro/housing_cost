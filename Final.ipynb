{
 "cells": [
  {
   "cell_type": "code",
   "execution_count": 1,
   "metadata": {},
   "outputs": [],
   "source": [
    "import numpy as np\n",
    "import pandas as pd\n",
    "import matplotlib.pyplot as plt\n",
    "import seaborn as sns\n",
    "from  sklearn.ensemble import IsolationForest\n",
    "import warnings\n",
    "warnings.filterwarnings('ignore')\n",
    "from sklearn.preprocessing  import LabelEncoder\n",
    "from sklearn import linear_model \n",
    "from sklearn import tree \n",
    "from sklearn import ensemble \n",
    "from sklearn import metrics \n",
    "from sklearn import preprocessing \n",
    "from sklearn.model_selection import train_test_split \n",
    "from sklearn.feature_selection import SelectKBest, f_classif"
   ]
  },
  {
   "cell_type": "markdown",
   "metadata": {},
   "source": [
    "### Дипломный проект \n",
    "##  «Модель прогнозирования стоимости жилья для агентства недвижимости»"
   ]
  },
  {
   "cell_type": "code",
   "execution_count": 115,
   "metadata": {},
   "outputs": [
    {
     "data": {
      "text/html": [
       "<div>\n",
       "<style scoped>\n",
       "    .dataframe tbody tr th:only-of-type {\n",
       "        vertical-align: middle;\n",
       "    }\n",
       "\n",
       "    .dataframe tbody tr th {\n",
       "        vertical-align: top;\n",
       "    }\n",
       "\n",
       "    .dataframe thead th {\n",
       "        text-align: right;\n",
       "    }\n",
       "</style>\n",
       "<table border=\"1\" class=\"dataframe\">\n",
       "  <thead>\n",
       "    <tr style=\"text-align: right;\">\n",
       "      <th></th>\n",
       "      <th>status</th>\n",
       "      <th>private pool</th>\n",
       "      <th>propertyType</th>\n",
       "      <th>street</th>\n",
       "      <th>baths</th>\n",
       "      <th>homeFacts</th>\n",
       "      <th>fireplace</th>\n",
       "      <th>city</th>\n",
       "      <th>schools</th>\n",
       "      <th>sqft</th>\n",
       "      <th>zipcode</th>\n",
       "      <th>beds</th>\n",
       "      <th>state</th>\n",
       "      <th>stories</th>\n",
       "      <th>mls-id</th>\n",
       "      <th>PrivatePool</th>\n",
       "      <th>MlsId</th>\n",
       "      <th>target</th>\n",
       "    </tr>\n",
       "  </thead>\n",
       "  <tbody>\n",
       "    <tr>\n",
       "      <th>0</th>\n",
       "      <td>Active</td>\n",
       "      <td>NaN</td>\n",
       "      <td>Single Family Home</td>\n",
       "      <td>240 Heather Ln</td>\n",
       "      <td>3.5</td>\n",
       "      <td>{'atAGlanceFacts': [{'factValue': '2019', 'fac...</td>\n",
       "      <td>Gas Logs</td>\n",
       "      <td>Southern Pines</td>\n",
       "      <td>[{'rating': ['4', '4', '7', 'NR', '4', '7', 'N...</td>\n",
       "      <td>2900</td>\n",
       "      <td>28387</td>\n",
       "      <td>4</td>\n",
       "      <td>NC</td>\n",
       "      <td>NaN</td>\n",
       "      <td>NaN</td>\n",
       "      <td>NaN</td>\n",
       "      <td>611019</td>\n",
       "      <td>$418,000</td>\n",
       "    </tr>\n",
       "    <tr>\n",
       "      <th>1</th>\n",
       "      <td>for sale</td>\n",
       "      <td>NaN</td>\n",
       "      <td>single-family home</td>\n",
       "      <td>12911 E Heroy Ave</td>\n",
       "      <td>3 Baths</td>\n",
       "      <td>{'atAGlanceFacts': [{'factValue': '2019', 'fac...</td>\n",
       "      <td>NaN</td>\n",
       "      <td>Spokane Valley</td>\n",
       "      <td>[{'rating': ['4/10', 'None/10', '4/10'], 'data...</td>\n",
       "      <td>1,947 sqft</td>\n",
       "      <td>99216</td>\n",
       "      <td>3 Beds</td>\n",
       "      <td>WA</td>\n",
       "      <td>2.0</td>\n",
       "      <td>NaN</td>\n",
       "      <td>NaN</td>\n",
       "      <td>201916904</td>\n",
       "      <td>$310,000</td>\n",
       "    </tr>\n",
       "    <tr>\n",
       "      <th>2</th>\n",
       "      <td>for sale</td>\n",
       "      <td>NaN</td>\n",
       "      <td>single-family home</td>\n",
       "      <td>2005 Westridge Rd</td>\n",
       "      <td>2 Baths</td>\n",
       "      <td>{'atAGlanceFacts': [{'factValue': '1961', 'fac...</td>\n",
       "      <td>yes</td>\n",
       "      <td>Los Angeles</td>\n",
       "      <td>[{'rating': ['8/10', '4/10', '8/10'], 'data': ...</td>\n",
       "      <td>3,000 sqft</td>\n",
       "      <td>90049</td>\n",
       "      <td>3 Beds</td>\n",
       "      <td>CA</td>\n",
       "      <td>1.0</td>\n",
       "      <td>NaN</td>\n",
       "      <td>yes</td>\n",
       "      <td>FR19221027</td>\n",
       "      <td>$2,895,000</td>\n",
       "    </tr>\n",
       "    <tr>\n",
       "      <th>3</th>\n",
       "      <td>for sale</td>\n",
       "      <td>NaN</td>\n",
       "      <td>single-family home</td>\n",
       "      <td>4311 Livingston Ave</td>\n",
       "      <td>8 Baths</td>\n",
       "      <td>{'atAGlanceFacts': [{'factValue': '2006', 'fac...</td>\n",
       "      <td>yes</td>\n",
       "      <td>Dallas</td>\n",
       "      <td>[{'rating': ['9/10', '9/10', '10/10', '9/10'],...</td>\n",
       "      <td>6,457 sqft</td>\n",
       "      <td>75205</td>\n",
       "      <td>5 Beds</td>\n",
       "      <td>TX</td>\n",
       "      <td>3.0</td>\n",
       "      <td>NaN</td>\n",
       "      <td>NaN</td>\n",
       "      <td>14191809</td>\n",
       "      <td>$2,395,000</td>\n",
       "    </tr>\n",
       "    <tr>\n",
       "      <th>4</th>\n",
       "      <td>for sale</td>\n",
       "      <td>NaN</td>\n",
       "      <td>lot/land</td>\n",
       "      <td>1524 Kiscoe St</td>\n",
       "      <td>NaN</td>\n",
       "      <td>{'atAGlanceFacts': [{'factValue': '', 'factLab...</td>\n",
       "      <td>NaN</td>\n",
       "      <td>Palm Bay</td>\n",
       "      <td>[{'rating': ['4/10', '5/10', '5/10'], 'data': ...</td>\n",
       "      <td>NaN</td>\n",
       "      <td>32908</td>\n",
       "      <td>NaN</td>\n",
       "      <td>FL</td>\n",
       "      <td>NaN</td>\n",
       "      <td>NaN</td>\n",
       "      <td>NaN</td>\n",
       "      <td>861745</td>\n",
       "      <td>$5,000</td>\n",
       "    </tr>\n",
       "  </tbody>\n",
       "</table>\n",
       "</div>"
      ],
      "text/plain": [
       "     status private pool        propertyType               street    baths  \\\n",
       "0    Active          NaN  Single Family Home       240 Heather Ln      3.5   \n",
       "1  for sale          NaN  single-family home    12911 E Heroy Ave  3 Baths   \n",
       "2  for sale          NaN  single-family home    2005 Westridge Rd  2 Baths   \n",
       "3  for sale          NaN  single-family home  4311 Livingston Ave  8 Baths   \n",
       "4  for sale          NaN            lot/land       1524 Kiscoe St      NaN   \n",
       "\n",
       "                                           homeFacts fireplace  \\\n",
       "0  {'atAGlanceFacts': [{'factValue': '2019', 'fac...  Gas Logs   \n",
       "1  {'atAGlanceFacts': [{'factValue': '2019', 'fac...       NaN   \n",
       "2  {'atAGlanceFacts': [{'factValue': '1961', 'fac...       yes   \n",
       "3  {'atAGlanceFacts': [{'factValue': '2006', 'fac...       yes   \n",
       "4  {'atAGlanceFacts': [{'factValue': '', 'factLab...       NaN   \n",
       "\n",
       "             city                                            schools  \\\n",
       "0  Southern Pines  [{'rating': ['4', '4', '7', 'NR', '4', '7', 'N...   \n",
       "1  Spokane Valley  [{'rating': ['4/10', 'None/10', '4/10'], 'data...   \n",
       "2     Los Angeles  [{'rating': ['8/10', '4/10', '8/10'], 'data': ...   \n",
       "3          Dallas  [{'rating': ['9/10', '9/10', '10/10', '9/10'],...   \n",
       "4        Palm Bay  [{'rating': ['4/10', '5/10', '5/10'], 'data': ...   \n",
       "\n",
       "         sqft zipcode    beds state stories mls-id PrivatePool       MlsId  \\\n",
       "0        2900   28387       4    NC     NaN    NaN         NaN      611019   \n",
       "1  1,947 sqft   99216  3 Beds    WA     2.0    NaN         NaN   201916904   \n",
       "2  3,000 sqft   90049  3 Beds    CA     1.0    NaN         yes  FR19221027   \n",
       "3  6,457 sqft   75205  5 Beds    TX     3.0    NaN         NaN    14191809   \n",
       "4         NaN   32908     NaN    FL     NaN    NaN         NaN      861745   \n",
       "\n",
       "       target  \n",
       "0    $418,000  \n",
       "1    $310,000  \n",
       "2  $2,895,000  \n",
       "3  $2,395,000  \n",
       "4      $5,000  "
      ]
     },
     "execution_count": 115,
     "metadata": {},
     "output_type": "execute_result"
    }
   ],
   "source": [
    "df = pd.read_csv('data.csv', sep = ',')\n",
    "df.head()"
   ]
  },
  {
   "cell_type": "code",
   "execution_count": 3,
   "metadata": {},
   "outputs": [
    {
     "name": "stdout",
     "output_type": "stream",
     "text": [
      "<class 'pandas.core.frame.DataFrame'>\n",
      "RangeIndex: 377185 entries, 0 to 377184\n",
      "Data columns (total 18 columns):\n",
      " #   Column        Non-Null Count   Dtype \n",
      "---  ------        --------------   ----- \n",
      " 0   status        337267 non-null  object\n",
      " 1   private pool  4181 non-null    object\n",
      " 2   propertyType  342452 non-null  object\n",
      " 3   street        377183 non-null  object\n",
      " 4   baths         270847 non-null  object\n",
      " 5   homeFacts     377185 non-null  object\n",
      " 6   fireplace     103114 non-null  object\n",
      " 7   city          377151 non-null  object\n",
      " 8   schools       377185 non-null  object\n",
      " 9   sqft          336608 non-null  object\n",
      " 10  zipcode       377185 non-null  object\n",
      " 11  beds          285903 non-null  object\n",
      " 12  state         377185 non-null  object\n",
      " 13  stories       226469 non-null  object\n",
      " 14  mls-id        24942 non-null   object\n",
      " 15  PrivatePool   40311 non-null   object\n",
      " 16  MlsId         310305 non-null  object\n",
      " 17  target        374704 non-null  object\n",
      "dtypes: object(18)\n",
      "memory usage: 51.8+ MB\n"
     ]
    }
   ],
   "source": [
    "df.info()"
   ]
  },
  {
   "cell_type": "markdown",
   "metadata": {},
   "source": [
    "### Описание данных:  \n",
    "➔ 'status' — статус продажи;  \n",
    "➔ 'private pool' и 'PrivatePool' — наличие собственного бассейна;  \n",
    "➔ 'propertyType' — тип объекта недвижимости;  \n",
    "➔ 'street' — адрес объекта;  \n",
    "➔ 'baths' — количество ванных комнат;  \n",
    "➔ 'homeFacts' — сведения о строительстве объекта (содержит несколько типов сведений, влияющих на оценку объекта);  \n",
    "➔ 'fireplace' — наличие камина;  \n",
    "➔ 'city' — город;  \n",
    "➔ 'schools' — сведения о школах в районе;  \n",
    "➔ 'sqft' — площадь в футах;  \n",
    "➔ 'zipcode' — почтовый индекс;  \n",
    "➔ 'beds' — количество спален;  \n",
    "➔ 'state' — штат;  \n",
    "➔ 'stories' — количество этажей;  \n",
    "➔ 'mls-id' и 'MlsId' — идентификатор MLS (Multiple Listing Service, система мультилистинга);  \n",
    "➔ 'target' — цена объекта недвижимости (целевой признак, который необходимо спрогнозировать).  "
   ]
  },
  {
   "cell_type": "markdown",
   "metadata": {},
   "source": [
    "у нас 377185 строк и 18 признаков, один целевой, есть одинаковые признаки: private pool' и 'PrivatePool' , mls-id' и 'MlsId'  \n",
    "\n",
    "В признаке .homeFacts. - данные в виде словаря, в признаке schools данные в виде списка, в котором словарь. Рассмотрим их позже."
   ]
  },
  {
   "cell_type": "code",
   "execution_count": 116,
   "metadata": {},
   "outputs": [
    {
     "name": "stdout",
     "output_type": "stream",
     "text": [
      "Число найденных дубликатов: 50\n"
     ]
    }
   ],
   "source": [
    "# Проверим наличие дубликатов\n",
    "dupl_columns = list(df.columns)\n",
    "\n",
    "mask = df.duplicated(subset=dupl_columns)\n",
    "\n",
    "df_duplicates = df[mask]\n",
    "print(f'Число найденных дубликатов: {df_duplicates.shape[0]}')"
   ]
  },
  {
   "cell_type": "code",
   "execution_count": 117,
   "metadata": {},
   "outputs": [],
   "source": [
    "# их немного, удалим дубликаты\n",
    "df= df.drop_duplicates(subset=dupl_columns)"
   ]
  },
  {
   "cell_type": "code",
   "execution_count": 118,
   "metadata": {},
   "outputs": [
    {
     "data": {
      "text/plain": [
       "private pool    98.891378\n",
       "mls-id          93.386453\n",
       "PrivatePool     89.311520\n",
       "fireplace       72.659393\n",
       "stories         39.952272\n",
       "baths           28.188315\n",
       "beds            24.196640\n",
       "MlsId           17.730786\n",
       "sqft            10.752118\n",
       "status          10.584274\n",
       "propertyType     9.209699\n",
       "target           0.657589\n",
       "city             0.009015\n",
       "street           0.000530\n",
       "dtype: float64"
      ]
     },
     "metadata": {},
     "output_type": "display_data"
    }
   ],
   "source": [
    "# Посмотрим признаки на наличие признаков и их количество\n",
    "cols_null_percent = df.isnull().mean() * 100\n",
    "cols_with_null = cols_null_percent[cols_null_percent>0].sort_values(ascending=False)\n",
    "display(cols_with_null)"
   ]
  },
  {
   "cell_type": "markdown",
   "metadata": {},
   "source": [
    "Видим, что признаки private pool, mls, PrivatePool, fireplace, stories имеют больше 30% пропусков  \n",
    "Признаки бассейн и камин удалять не будем, будем считать наличие пропуска - отстутствие в доме  \n",
    "Признак stories -  удалим  \n",
    "'mls-id', 'MlsId' - посмотрим на эти признак"
   ]
  },
  {
   "cell_type": "code",
   "execution_count": 258,
   "metadata": {},
   "outputs": [
    {
     "data": {
      "text/html": [
       "<div>\n",
       "<style scoped>\n",
       "    .dataframe tbody tr th:only-of-type {\n",
       "        vertical-align: middle;\n",
       "    }\n",
       "\n",
       "    .dataframe tbody tr th {\n",
       "        vertical-align: top;\n",
       "    }\n",
       "\n",
       "    .dataframe thead th {\n",
       "        text-align: right;\n",
       "    }\n",
       "</style>\n",
       "<table border=\"1\" class=\"dataframe\">\n",
       "  <thead>\n",
       "    <tr style=\"text-align: right;\">\n",
       "      <th></th>\n",
       "      <th>mls-id</th>\n",
       "      <th>MlsId</th>\n",
       "    </tr>\n",
       "  </thead>\n",
       "  <tbody>\n",
       "    <tr>\n",
       "      <th>0</th>\n",
       "      <td>NaN</td>\n",
       "      <td>611019</td>\n",
       "    </tr>\n",
       "    <tr>\n",
       "      <th>1</th>\n",
       "      <td>NaN</td>\n",
       "      <td>201916904</td>\n",
       "    </tr>\n",
       "    <tr>\n",
       "      <th>2</th>\n",
       "      <td>NaN</td>\n",
       "      <td>FR19221027</td>\n",
       "    </tr>\n",
       "    <tr>\n",
       "      <th>3</th>\n",
       "      <td>NaN</td>\n",
       "      <td>14191809</td>\n",
       "    </tr>\n",
       "    <tr>\n",
       "      <th>4</th>\n",
       "      <td>NaN</td>\n",
       "      <td>861745</td>\n",
       "    </tr>\n",
       "    <tr>\n",
       "      <th>...</th>\n",
       "      <td>...</td>\n",
       "      <td>...</td>\n",
       "    </tr>\n",
       "    <tr>\n",
       "      <th>377180</th>\n",
       "      <td>NaN</td>\n",
       "      <td>A10702700</td>\n",
       "    </tr>\n",
       "    <tr>\n",
       "      <th>377181</th>\n",
       "      <td>NaN</td>\n",
       "      <td>10374233</td>\n",
       "    </tr>\n",
       "    <tr>\n",
       "      <th>377182</th>\n",
       "      <td>NaN</td>\n",
       "      <td>NaN</td>\n",
       "    </tr>\n",
       "    <tr>\n",
       "      <th>377183</th>\n",
       "      <td>NaN</td>\n",
       "      <td>NaN</td>\n",
       "    </tr>\n",
       "    <tr>\n",
       "      <th>377184</th>\n",
       "      <td>NaN</td>\n",
       "      <td>1403619</td>\n",
       "    </tr>\n",
       "  </tbody>\n",
       "</table>\n",
       "<p>377135 rows × 2 columns</p>\n",
       "</div>"
      ],
      "text/plain": [
       "       mls-id       MlsId\n",
       "0         NaN      611019\n",
       "1         NaN   201916904\n",
       "2         NaN  FR19221027\n",
       "3         NaN    14191809\n",
       "4         NaN      861745\n",
       "...       ...         ...\n",
       "377180    NaN   A10702700\n",
       "377181    NaN    10374233\n",
       "377182    NaN         NaN\n",
       "377183    NaN         NaN\n",
       "377184    NaN     1403619\n",
       "\n",
       "[377135 rows x 2 columns]"
      ]
     },
     "execution_count": 258,
     "metadata": {},
     "output_type": "execute_result"
    }
   ],
   "source": [
    "df[['mls-id', 'MlsId']]"
   ]
  },
  {
   "cell_type": "markdown",
   "metadata": {},
   "source": [
    "эти признаки так же удалим, они не информативны"
   ]
  },
  {
   "cell_type": "code",
   "execution_count": 119,
   "metadata": {},
   "outputs": [],
   "source": [
    "df.drop(['stories', 'mls-id', 'MlsId'], axis = 1, inplace=True)"
   ]
  },
  {
   "cell_type": "code",
   "execution_count": 120,
   "metadata": {},
   "outputs": [
    {
     "name": "stdout",
     "output_type": "stream",
     "text": [
      "Оставшееся число строк: 331492\n"
     ]
    }
   ],
   "source": [
    "# Удалим признаки, где боьлше 5 пропусков в строке\n",
    "m = df.shape[1]\n",
    "df = df.dropna(thresh=m-5, axis=0)\n",
    "print(f'Оставшееся число строк: {df.shape[0]}')"
   ]
  },
  {
   "cell_type": "markdown",
   "metadata": {},
   "source": [
    "Расссмотрим остальные признаки"
   ]
  },
  {
   "cell_type": "markdown",
   "metadata": {},
   "source": [
    "### target"
   ]
  },
  {
   "cell_type": "code",
   "execution_count": 9,
   "metadata": {},
   "outputs": [
    {
     "data": {
      "text/plain": [
       "target\n",
       "False    0.994495\n",
       "True     0.005505\n",
       "Name: proportion, dtype: float64"
      ]
     },
     "execution_count": 9,
     "metadata": {},
     "output_type": "execute_result"
    }
   ],
   "source": [
    "# проверим пустые значения\n",
    "df['target'].isna().value_counts(normalize=True)"
   ]
  },
  {
   "cell_type": "code",
   "execution_count": 121,
   "metadata": {},
   "outputs": [],
   "source": [
    "# пустых значений менее 1 %, удалим их\n",
    "df = df.dropna(subset=['target'])"
   ]
  },
  {
   "cell_type": "code",
   "execution_count": 530,
   "metadata": {},
   "outputs": [
    {
     "data": {
      "text/plain": [
       "0           $418,000\n",
       "1           $310,000\n",
       "2         $2,895,000\n",
       "3         $2,395,000\n",
       "5           $209,000\n",
       "             ...    \n",
       "377179      $799,000\n",
       "377180    $1,249,000\n",
       "377181      $674,999\n",
       "377182      $528,000\n",
       "377184      $204,900\n",
       "Name: target, Length: 329667, dtype: object"
      ]
     },
     "execution_count": 530,
     "metadata": {},
     "output_type": "execute_result"
    }
   ],
   "source": [
    "df['target']"
   ]
  },
  {
   "cell_type": "code",
   "execution_count": 122,
   "metadata": {},
   "outputs": [],
   "source": [
    "# преобразуем признак\n",
    "def pr_price(x):\n",
    "    x=int(x.replace('$','').replace(',','').replace('+', '').replace('/mo', '').replace('1215 - 1437','1214'))\n",
    "    return x"
   ]
  },
  {
   "cell_type": "code",
   "execution_count": 123,
   "metadata": {},
   "outputs": [],
   "source": [
    "df['target']= df['target'].apply(pr_price)"
   ]
  },
  {
   "cell_type": "code",
   "execution_count": 13,
   "metadata": {},
   "outputs": [
    {
     "data": {
      "text/plain": [
       "count    3.296670e+05\n",
       "mean     6.364285e+05\n",
       "std      1.789606e+06\n",
       "min      1.000000e+00\n",
       "25%      2.005965e+05\n",
       "50%      3.300000e+05\n",
       "75%      5.850000e+05\n",
       "max      1.950000e+08\n",
       "Name: target, dtype: float64"
      ]
     },
     "execution_count": 13,
     "metadata": {},
     "output_type": "execute_result"
    }
   ],
   "source": [
    "# Посмотрим описание признака\n",
    "df['target'].describe()"
   ]
  },
  {
   "cell_type": "markdown",
   "metadata": {},
   "source": [
    "Из описания минимум 1 - явный выброс, максимальное значение сильно больше 75-квантили, тоже похоже на выброс"
   ]
  },
  {
   "cell_type": "code",
   "execution_count": 534,
   "metadata": {},
   "outputs": [
    {
     "data": {
      "image/png": "[encoded data removed]",
      "text/plain": [
       "<Figure size 1500x400 with 2 Axes>"
      ]
     },
     "metadata": {},
     "output_type": "display_data"
    }
   ],
   "source": [
    "# Визуализируем признак\n",
    "fig, axes = plt.subplots(nrows=1, ncols=2, figsize=(15, 4)) \n",
    "histplot = sns.histplot(data=df, x='target', ax=axes[0]);\n",
    "histplot.set_title('price');\n",
    "boxplot = sns.boxplot(data=df, x='target', ax=axes[1]);\n",
    "boxplot.set_title('price');"
   ]
  },
  {
   "cell_type": "markdown",
   "metadata": {},
   "source": [
    "с помощью метода Тьюки найдем выбросы, правую границу сдвинем (исходя из графика)"
   ]
  },
  {
   "cell_type": "code",
   "execution_count": 124,
   "metadata": {},
   "outputs": [],
   "source": [
    "def outliers_iqr(data, feature, left=1, right=6):\n",
    "    x = data[feature]\n",
    "    quartile_1, quartile_3 = x.quantile(0.25), x.quantile(0.75),\n",
    "    iqr = quartile_3 - quartile_1\n",
    "#     lower_bound = quartile_1 - (iqr * 1.5)\n",
    "#     upper_bound = quartile_3 + (iqr * 1.5)\n",
    "    lower_bound = quartile_1 - (right* iqr)\n",
    "    upper_bound = quartile_3 + (left * iqr)\n",
    "    outliers = data[(x<lower_bound) | (x > upper_bound)]\n",
    "    cleaned = data[(x>lower_bound) & (x < upper_bound)]\n",
    "    return outliers, cleaned"
   ]
  },
  {
   "cell_type": "code",
   "execution_count": 125,
   "metadata": {},
   "outputs": [
    {
     "name": "stdout",
     "output_type": "stream",
     "text": [
      "Число выбросов по методу Тьюки: 40291\n",
      "Результирующее число записей: 289376\n"
     ]
    }
   ],
   "source": [
    "outliers, cleaned = outliers_iqr(df, 'target')\n",
    "print(f'Число выбросов по методу Тьюки: {outliers.shape[0]}')\n",
    "print(f'Результирующее число записей: {cleaned.shape[0]}')"
   ]
  },
  {
   "cell_type": "markdown",
   "metadata": {},
   "source": [
    "Посмотрим данные после удаления выбросов по методу Тьюки"
   ]
  },
  {
   "cell_type": "code",
   "execution_count": 16,
   "metadata": {},
   "outputs": [
    {
     "data": {
      "image/png": "[encoded data removed]",
      "text/plain": [
       "<Figure size 1500x400 with 2 Axes>"
      ]
     },
     "metadata": {},
     "output_type": "display_data"
    }
   ],
   "source": [
    "fig, axes = plt.subplots(nrows=1, ncols=2, figsize=(15, 4))\n",
    "histplot = sns.histplot(data=cleaned, x='target', ax=axes[0]);\n",
    "histplot.set_title('Cleaned price');\n",
    "boxplot = sns.boxplot(data=cleaned, x='target', ax=axes[1]);\n",
    "boxplot.set_title('Cleaned price');"
   ]
  },
  {
   "cell_type": "markdown",
   "metadata": {},
   "source": [
    "Теперь больше похоже на нормальное распределение, хотя справа все равно хвост, оставим как есть и есть значения около 0, что странно для цены недвижимости"
   ]
  },
  {
   "cell_type": "code",
   "execution_count": 126,
   "metadata": {},
   "outputs": [],
   "source": [
    "df = cleaned.copy()"
   ]
  },
  {
   "cell_type": "code",
   "execution_count": 127,
   "metadata": {},
   "outputs": [
    {
     "data": {
      "text/plain": [
       "count    289376.000000\n",
       "mean     340436.908213\n",
       "std      213222.962180\n",
       "min           1.000000\n",
       "25%      187990.000000\n",
       "50%      295900.000000\n",
       "75%      454900.000000\n",
       "max      969000.000000\n",
       "Name: target, dtype: float64"
      ]
     },
     "execution_count": 127,
     "metadata": {},
     "output_type": "execute_result"
    }
   ],
   "source": [
    "# Посмотрим снова описание признака\n",
    "df['target'].describe()"
   ]
  },
  {
   "cell_type": "code",
   "execution_count": 128,
   "metadata": {},
   "outputs": [],
   "source": [
    "df = df[df['target']>100000] #удалим значения "
   ]
  },
  {
   "cell_type": "code",
   "execution_count": 129,
   "metadata": {},
   "outputs": [],
   "source": [
    "df = df[df['target']<650000] #удалим значения "
   ]
  },
  {
   "cell_type": "code",
   "execution_count": 130,
   "metadata": {},
   "outputs": [
    {
     "data": {
      "text/plain": [
       "count    228225.000000\n",
       "mean     319388.084504\n",
       "std      136579.976207\n",
       "min      100050.000000\n",
       "25%      211000.000000\n",
       "50%      295490.000000\n",
       "75%      410000.000000\n",
       "max      649999.000000\n",
       "Name: target, dtype: float64"
      ]
     },
     "execution_count": 130,
     "metadata": {},
     "output_type": "execute_result"
    }
   ],
   "source": [
    "df['target'].describe()"
   ]
  },
  {
   "cell_type": "markdown",
   "metadata": {},
   "source": [
    "### status"
   ]
  },
  {
   "cell_type": "code",
   "execution_count": 23,
   "metadata": {},
   "outputs": [
    {
     "data": {
      "text/plain": [
       "status\n",
       "for sale                     96401\n",
       "Active                       53943\n",
       "For sale                     29743\n",
       "New construction              3758\n",
       "Pending                       3359\n",
       "foreclosure                   3231\n",
       "Pre-foreclosure               1642\n",
       "Under Contract Show           1001\n",
       "Pre-foreclosure / auction      940\n",
       "P                              932\n",
       "Under Contract   Showing       661\n",
       "Under Contract                 610\n",
       " / auction                     593\n",
       "Contingent                     418\n",
       "New                            410\n",
       "Name: count, dtype: int64"
      ]
     },
     "execution_count": 23,
     "metadata": {},
     "output_type": "execute_result"
    }
   ],
   "source": [
    "df['status'].value_counts()[0:15]"
   ]
  },
  {
   "cell_type": "markdown",
   "metadata": {},
   "source": [
    "Из данных видим, что это статусы: в продаже, подписан контрак, и т.д. не инормативен для нас, удалим"
   ]
  },
  {
   "cell_type": "code",
   "execution_count": 131,
   "metadata": {},
   "outputs": [],
   "source": [
    "df.drop(['status'], axis = 1, inplace=True)"
   ]
  },
  {
   "cell_type": "markdown",
   "metadata": {},
   "source": [
    "### pool"
   ]
  },
  {
   "cell_type": "code",
   "execution_count": 25,
   "metadata": {},
   "outputs": [
    {
     "data": {
      "text/plain": [
       "private pool\n",
       "Yes    2721\n",
       "Name: count, dtype: int64"
      ]
     },
     "execution_count": 25,
     "metadata": {},
     "output_type": "execute_result"
    }
   ],
   "source": [
    "# Рассмотрим признаки 'private pool' и 'PrivatePool'\n",
    "df['private pool'].value_counts()"
   ]
  },
  {
   "cell_type": "code",
   "execution_count": 26,
   "metadata": {},
   "outputs": [
    {
     "data": {
      "text/plain": [
       "PrivatePool\n",
       "yes    17481\n",
       "Yes     6129\n",
       "Name: count, dtype: int64"
      ]
     },
     "execution_count": 26,
     "metadata": {},
     "output_type": "execute_result"
    }
   ],
   "source": [
    "df['PrivatePool'].value_counts()"
   ]
  },
  {
   "cell_type": "code",
   "execution_count": 132,
   "metadata": {},
   "outputs": [
    {
     "data": {
      "text/plain": [
       "pool\n",
       "0    201894\n",
       "1     26331\n",
       "Name: count, dtype: int64"
      ]
     },
     "execution_count": 132,
     "metadata": {},
     "output_type": "execute_result"
    }
   ],
   "source": [
    "# Будем считать, что пустые значения значат отсутствие бассейна, заменим на 0, 1 - наличие бассейна\n",
    "df['PrivatePool'] = df['PrivatePool'].apply(lambda x: 1 if x=='yes' or x=='Yes'  else 0)\n",
    "df['private pool'] = df['private pool'].apply(lambda x: 1 if x=='Yes'  else 0) \n",
    "df['pool'] = df['PrivatePool'] + df['private pool'] # объединим 2 признака в 1\n",
    "df['pool'].value_counts() "
   ]
  },
  {
   "cell_type": "markdown",
   "metadata": {},
   "source": [
    "Убедились, что нет значений равных 2 (значит в столбцах не дублируется наличие бассейна)  \n",
    "Удалим лишние признаки"
   ]
  },
  {
   "cell_type": "code",
   "execution_count": 133,
   "metadata": {},
   "outputs": [],
   "source": [
    "df.drop(['PrivatePool', 'private pool'], axis = 1, inplace=True)"
   ]
  },
  {
   "cell_type": "markdown",
   "metadata": {},
   "source": [
    "### propertyType"
   ]
  },
  {
   "cell_type": "code",
   "execution_count": 29,
   "metadata": {},
   "outputs": [
    {
     "data": {
      "text/plain": [
       "propertyType\n",
       "single-family home                     66308\n",
       "Single Family                          45159\n",
       "Single Family Home                     24320\n",
       "condo                                  16827\n",
       "Condo                                  11179\n",
       "townhouse                               8906\n",
       "Condo/Townhome/Row Home/Co-Op           5957\n",
       "Townhouse                               5326\n",
       "Traditional                             4713\n",
       "multi-family                            2901\n",
       "Land                                    2688\n",
       "coop                                    2198\n",
       "lot/land                                1747\n",
       "Multi Family                            1517\n",
       "Ranch                                   1505\n",
       "Single Detached, Traditional            1340\n",
       "Contemporary                            1134\n",
       "1 Story                                 1106\n",
       "Detached, One Story                     1090\n",
       "High Rise                               1059\n",
       "2 Stories                                865\n",
       "Contemporary/Modern                      806\n",
       "mobile/manufactured                      726\n",
       "Single Detached                          669\n",
       "Colonial                                 608\n",
       "Mobile / Manufactured                    525\n",
       "Multi-Family Home                        508\n",
       "Florida                                  472\n",
       "Transitional                             416\n",
       "Mfd/Mobile Home                          405\n",
       "Cooperative                              381\n",
       "One Story                                349\n",
       "Apartment                                329\n",
       "Bungalow                                 307\n",
       "2 Stories, Traditional                   263\n",
       "Detached, Two Story                      261\n",
       "1 Story, Traditional                     228\n",
       "Garden Home                              225\n",
       "Farms/Ranches                            201\n",
       "Condo/Townhome, Traditional              200\n",
       "Spanish/Mediterranean                    174\n",
       "2 Story                                  168\n",
       "Other Style                              166\n",
       "Condo/Townhome, Contemporary/Modern      156\n",
       "Cape Cod                                 155\n",
       "Craftsman                                154\n",
       "Condo/Townhome                           141\n",
       "Contemporary/Modern, Traditional         138\n",
       "SingleFamilyResidence                    131\n",
       "Ranch, Traditional                       119\n",
       "Name: count, dtype: int64"
      ]
     },
     "execution_count": 29,
     "metadata": {},
     "output_type": "execute_result"
    }
   ],
   "source": [
    "# Рассмотрим признак тип собственности\n",
    "df['propertyType'].value_counts()[0:50]"
   ]
  },
  {
   "cell_type": "markdown",
   "metadata": {},
   "source": [
    "Из данных видим, что один и тот же тип собственности, записан по-разному  \n",
    "Преобразуем данные\n"
   ]
  },
  {
   "cell_type": "code",
   "execution_count": 135,
   "metadata": {},
   "outputs": [],
   "source": [
    "def f_tp(t):\n",
    "\n",
    "    if type(t)!=float:\n",
    "        t = t.lower()\n",
    "        if 'single' in t or 'detached' in t:\n",
    "            result = 'single family home'\n",
    "        elif 'condo'in t:\n",
    "            result='condo'\n",
    "        elif 'mobile' in t:\n",
    "            result = 'mobile'\n",
    "        elif 'multi' in t:\n",
    "             result='multi family home'   \n",
    "        elif 'land' in t:\n",
    "             result='land'\n",
    "        elif 'coop' in t or 'co-op' in t:\n",
    "             result='coop'\n",
    "        elif 'contemporary' in t:\n",
    "             result='contemporary'\n",
    "        elif 'ranch' in t:\n",
    "             result='ranch'\n",
    "        elif 'traditional' in t:\n",
    "             result='traditional'\n",
    "        elif 'townhouse' in t:\n",
    "             result='townhouse'\n",
    "        else:\n",
    "            result='others' # менее 1% перенесли в other\n",
    "    else:\n",
    "        result='others'\n",
    "            \n",
    "    return result                     "
   ]
  },
  {
   "cell_type": "code",
   "execution_count": 136,
   "metadata": {},
   "outputs": [],
   "source": [
    "df['p_type'] = df['propertyType'].apply(f_tp)"
   ]
  },
  {
   "cell_type": "code",
   "execution_count": 137,
   "metadata": {},
   "outputs": [
    {
     "data": {
      "text/plain": [
       "p_type\n",
       "single family home    140125\n",
       "condo                  34715\n",
       "others                 14795\n",
       "townhouse              14289\n",
       "traditional             5565\n",
       "multi family home       5087\n",
       "land                    4438\n",
       "contemporary            2741\n",
       "coop                    2599\n",
       "ranch                   2212\n",
       "mobile                  1659\n",
       "Name: count, dtype: int64"
      ]
     },
     "execution_count": 137,
     "metadata": {},
     "output_type": "execute_result"
    }
   ],
   "source": [
    "df['p_type'].value_counts() # возьмем 10 по популярности значений, остальное заменим 'others'"
   ]
  },
  {
   "cell_type": "code",
   "execution_count": 33,
   "metadata": {},
   "outputs": [
    {
     "data": {
      "image/png": "[encoded data removed]",
      "text/plain": [
       "<Figure size 1000x700 with 1 Axes>"
      ]
     },
     "metadata": {},
     "output_type": "display_data"
    }
   ],
   "source": [
    "# Построим график распределения цены от вида собственности\n",
    "fig = plt.figure(figsize=(10, 7))\n",
    "boxplot = sns.boxplot(\n",
    "    data=df,\n",
    "    y='p_type',\n",
    "    x='target',\n",
    "    orient='h',\n",
    "    width=0.9\n",
    ")\n",
    "boxplot.set_title('Стоимость');\n",
    "boxplot.set_xlabel('Цена');\n",
    "boxplot.set_ylabel('Тип недвижимости');\n",
    "boxplot.grid()"
   ]
  },
  {
   "cell_type": "markdown",
   "metadata": {},
   "source": [
    "land, mobile у данных видом собстенности стоимость в среднем намного ниже , чем у остальных видов собственности"
   ]
  },
  {
   "cell_type": "markdown",
   "metadata": {},
   "source": [
    "### street"
   ]
  },
  {
   "cell_type": "code",
   "execution_count": 39,
   "metadata": {},
   "outputs": [
    {
     "data": {
      "text/plain": [
       "0               240 Heather Ln\n",
       "1            12911 E Heroy Ave\n",
       "2            2005 Westridge Rd\n",
       "3          4311 Livingston Ave\n",
       "4               1524 Kiscoe St\n",
       "5            1624 S Newkirk St\n",
       "6             552 Casanova Ct \n",
       "7              6094 Mingle Dr \n",
       "8                11182 Owl Ave\n",
       "9         8612 Cedar Plains Ln\n",
       "10    14205 Roosevelt Ave #512\n",
       "11      4222 False Cypress Ln \n",
       "12            16373 NW 16th St\n",
       "13              1538 Umpqua Dr\n",
       "14          15351 Falmouth Ave\n",
       "15                930 52nd St \n",
       "16            2402 NW 22nd Rd \n",
       "17              24 W 126th St \n",
       "18          22702 Alderdale Ln\n",
       "19             1633 NE 15th St\n",
       "Name: street, dtype: object"
      ]
     },
     "execution_count": 39,
     "metadata": {},
     "output_type": "execute_result"
    }
   ],
   "source": [
    "# рассмотрим признак 'street'\n",
    "df['street'][0:20]"
   ]
  },
  {
   "cell_type": "markdown",
   "metadata": {},
   "source": [
    "В данном признак только улица и номер, мы не можем из него извлечь ничего полезного, удалим его"
   ]
  },
  {
   "cell_type": "code",
   "execution_count": 138,
   "metadata": {},
   "outputs": [],
   "source": [
    "df.drop(['street'], axis = 1, inplace=True)"
   ]
  },
  {
   "cell_type": "markdown",
   "metadata": {},
   "source": [
    "### baths"
   ]
  },
  {
   "cell_type": "code",
   "execution_count": 139,
   "metadata": {},
   "outputs": [],
   "source": [
    "# преобразуем признак\n",
    "\n",
    "def q_baths(x):\n",
    "    if type(x)!=float:\n",
    "        if len(x.split(' '))==1 or x.split(' ')[1].isalpha():\n",
    "            result=x.split(' ')[0]\n",
    "        else:\n",
    "            result=x.split(' ')[1]\n",
    "    \n",
    "        result=result.replace('+', '')\n",
    "        result=result.replace('-', ',')\n",
    "        result=result.replace(',', '.')\n",
    "        if result[0].isnumeric():\n",
    "            result=float(result)\n",
    "        else:\n",
    "            result=0        \n",
    "    else:\n",
    "        result=0\n",
    "    result=float(result)\n",
    "    return result"
   ]
  },
  {
   "cell_type": "code",
   "execution_count": 140,
   "metadata": {},
   "outputs": [],
   "source": [
    "df['q_baths'] = df['baths'].apply(q_baths)"
   ]
  },
  {
   "cell_type": "markdown",
   "metadata": {},
   "source": [
    "### fireplace"
   ]
  },
  {
   "cell_type": "code",
   "execution_count": 37,
   "metadata": {},
   "outputs": [
    {
     "name": "stdout",
     "output_type": "stream",
     "text": [
      "fireplace\n",
      "yes                             32797\n",
      "Yes                             13618\n",
      "1                               10622\n",
      "Not Applicable                   1851\n",
      "2                                 952\n",
      "Fireplace                         468\n",
      "Living Room                       287\n",
      "1 Fireplace                       255\n",
      "Fireplace YN                      249\n",
      "Wood Burning                      246\n",
      "No                                243\n",
      "0                                 226\n",
      "FAMILYRM                          225\n",
      "Wood                              196\n",
      "Special Features                  192\n",
      "Gas/Gas Logs                      189\n",
      "Ceiling Fan                       167\n",
      "Gas Logs, Great Room              165\n",
      "Great Room                        159\n",
      "Living Room, Wood Burning         136\n",
      "FAMILYRM, Gas Logs                123\n",
      "Fireplace Features                118\n",
      "Gas Logs, In Great Room           106\n",
      "Family Room, Wood Burning         105\n",
      "Gas Logs, In Living Room          102\n",
      "Gas Logs                          101\n",
      "3                                  99\n",
      "Gas                                90\n",
      "Gas Log, One                       89\n",
      "Gas Logs, In Den/Family Room       84\n",
      "Name: count, dtype: int64\n"
     ]
    }
   ],
   "source": [
    "# рассмотрим признак fireplace\n",
    "print(df['fireplace'].value_counts()[0:30])"
   ]
  },
  {
   "cell_type": "code",
   "execution_count": 141,
   "metadata": {},
   "outputs": [],
   "source": [
    "# преобразуем признак, наличие камина 1, отсутствие 0 (пустые значения будем считать отсутствием)\n",
    "df['fireplace'] = df['fireplace'].fillna(0)\n",
    "df['fireplace'] = df['fireplace'].apply(lambda x:  0 if (x==0 or x=='0' or x=='No' or x=='Not Applicable') else 1)"
   ]
  },
  {
   "cell_type": "code",
   "execution_count": 39,
   "metadata": {},
   "outputs": [
    {
     "data": {
      "text/plain": [
       "fireplace\n",
       "0    0.7104\n",
       "1    0.2896\n",
       "Name: proportion, dtype: float64"
      ]
     },
     "execution_count": 39,
     "metadata": {},
     "output_type": "execute_result"
    }
   ],
   "source": [
    "df['fireplace'].value_counts(normalize=True)"
   ]
  },
  {
   "cell_type": "markdown",
   "metadata": {},
   "source": [
    "### sqft"
   ]
  },
  {
   "cell_type": "code",
   "execution_count": 40,
   "metadata": {},
   "outputs": [
    {
     "data": {
      "text/plain": [
       "sqft\n",
       "0             3234\n",
       "1,200 sqft     609\n",
       "1,000 sqft     468\n",
       "1,100 sqft     413\n",
       "1,500 sqft     396\n",
       "1,400 sqft     393\n",
       "1,800 sqft     367\n",
       "1,600 sqft     326\n",
       "800 sqft       321\n",
       "2,000 sqft     311\n",
       "900 sqft       301\n",
       "1,300 sqft     301\n",
       "--             300\n",
       "1,440 sqft     271\n",
       "1,200          237\n",
       "2,200 sqft     232\n",
       "750 sqft       231\n",
       "1,250 sqft     221\n",
       "2,400 sqft     219\n",
       "2,100 sqft     218\n",
       "Name: count, dtype: int64"
      ]
     },
     "execution_count": 40,
     "metadata": {},
     "output_type": "execute_result"
    }
   ],
   "source": [
    "# рассмотрим признак sqft\n",
    "df['sqft'].value_counts()[0:20] "
   ]
  },
  {
   "cell_type": "code",
   "execution_count": 142,
   "metadata": {},
   "outputs": [],
   "source": [
    "# преобразуем признак\n",
    "def f_sqft(s):\n",
    "    if type(s)!=float:\n",
    "        s = s.replace(' sqft', '')\n",
    "        s = s.replace('sqft', '')\n",
    "        s = s.replace(',', '')\n",
    "        s = s.split(' ')[-1]\n",
    "        s = s.split('-')[0]\n",
    "        if s=='0' or s=='--':\n",
    "            s=None\n",
    "        return s"
   ]
  },
  {
   "cell_type": "code",
   "execution_count": 143,
   "metadata": {},
   "outputs": [],
   "source": [
    "df['sqft'] = df['sqft'].apply(f_sqft)"
   ]
  },
  {
   "cell_type": "code",
   "execution_count": 43,
   "metadata": {},
   "outputs": [
    {
     "data": {
      "text/plain": [
       "sqft\n",
       "False    0.971414\n",
       "True     0.028586\n",
       "Name: proportion, dtype: float64"
      ]
     },
     "execution_count": 43,
     "metadata": {},
     "output_type": "execute_result"
    }
   ],
   "source": [
    "df['sqft'].isna().value_counts(normalize=True)"
   ]
  },
  {
   "cell_type": "code",
   "execution_count": 144,
   "metadata": {},
   "outputs": [],
   "source": [
    "# Заполним пустые значения 0\n",
    "df['sqft'] = df['sqft'].fillna(0)"
   ]
  },
  {
   "cell_type": "code",
   "execution_count": 145,
   "metadata": {},
   "outputs": [],
   "source": [
    "df['sqft'] = df['sqft'].apply(lambda x: int(x) if x!='' else 0)"
   ]
  },
  {
   "cell_type": "code",
   "execution_count": 46,
   "metadata": {},
   "outputs": [
    {
     "data": {
      "text/plain": [
       "sqft\n",
       "0            0.030518\n",
       "1200         0.004439\n",
       "1500         0.003168\n",
       "1000         0.003093\n",
       "1400         0.003054\n",
       "               ...   \n",
       "52708        0.000004\n",
       "99552        0.000004\n",
       "163080       0.000004\n",
       "64904        0.000004\n",
       "456602479    0.000004\n",
       "Name: proportion, Length: 5910, dtype: float64"
      ]
     },
     "execution_count": 46,
     "metadata": {},
     "output_type": "execute_result"
    }
   ],
   "source": [
    "df['sqft'].value_counts(normalize=True)"
   ]
  },
  {
   "cell_type": "code",
   "execution_count": 146,
   "metadata": {},
   "outputs": [],
   "source": [
    "# числа большие, логарифмируем признак\n",
    "df['sqft'] = np.log(df['sqft']+1)"
   ]
  },
  {
   "cell_type": "code",
   "execution_count": 48,
   "metadata": {},
   "outputs": [
    {
     "data": {
      "image/png": "[encoded data removed]",
      "text/plain": [
       "<Figure size 1500x400 with 2 Axes>"
      ]
     },
     "metadata": {},
     "output_type": "display_data"
    }
   ],
   "source": [
    "fig, axes = plt.subplots(nrows=1, ncols=2, figsize=(15, 4))\n",
    "histplot = sns.histplot(data=df, x='sqft', ax=axes[0]);\n",
    "histplot.set_title('Площадь');\n",
    "boxplot = sns.boxplot(data=df, x='sqft', ax=axes[1]);\n",
    "boxplot.set_title('Площадь');"
   ]
  },
  {
   "cell_type": "code",
   "execution_count": 147,
   "metadata": {},
   "outputs": [],
   "source": [
    "def outliers_iqr(data, feature):\n",
    "    x = data[feature]\n",
    "    quartile_1, quartile_3 = x.quantile(0.25), x.quantile(0.75),\n",
    "    iqr = quartile_3 - quartile_1\n",
    "    lower_bound = quartile_1 - (iqr * 1.5)\n",
    "    upper_bound = quartile_3 + (iqr * 1.5)\n",
    "#     lower_bound = quartile_1 - (right* iqr)\n",
    "#     upper_bound = quartile_3 + (left * iqr)\n",
    "    outliers = data[(x<lower_bound) | (x > upper_bound)]\n",
    "    cleaned = data[(x>lower_bound) & (x < upper_bound)]\n",
    "    return outliers, cleaned"
   ]
  },
  {
   "cell_type": "code",
   "execution_count": 148,
   "metadata": {},
   "outputs": [
    {
     "name": "stdout",
     "output_type": "stream",
     "text": [
      "Число выбросов по методу Тьюки: 9481\n",
      "Результирующее число записей: 218744\n"
     ]
    }
   ],
   "source": [
    "# посмотрим на выбросы в признаке\n",
    "outliers2, cleaned2 = outliers_iqr(df, 'sqft')\n",
    "print(f'Число выбросов по методу Тьюки: {outliers2.shape[0]}')\n",
    "print(f'Результирующее число записей: {cleaned2.shape[0]}')"
   ]
  },
  {
   "cell_type": "code",
   "execution_count": 51,
   "metadata": {},
   "outputs": [
    {
     "data": {
      "image/png": "[encoded data removed]",
      "text/plain": [
       "<Figure size 1500x400 with 2 Axes>"
      ]
     },
     "metadata": {},
     "output_type": "display_data"
    }
   ],
   "source": [
    "fig, axes = plt.subplots(nrows=1, ncols=2, figsize=(15, 4))\n",
    "histplot = sns.histplot(data=cleaned2, x='sqft', ax=axes[0]);\n",
    "histplot.set_title('Площадь');\n",
    "boxplot = sns.boxplot(data=cleaned2, x='sqft', ax=axes[1]);\n",
    "boxplot.set_title('Площадь');"
   ]
  },
  {
   "cell_type": "code",
   "execution_count": 149,
   "metadata": {},
   "outputs": [],
   "source": [
    "df = cleaned2.copy()"
   ]
  },
  {
   "cell_type": "markdown",
   "metadata": {},
   "source": [
    "### beds"
   ]
  },
  {
   "cell_type": "code",
   "execution_count": 54,
   "metadata": {},
   "outputs": [
    {
     "data": {
      "text/plain": [
       "0          4\n",
       "1     3 Beds\n",
       "5     2 Beds\n",
       "6        NaN\n",
       "8          3\n",
       "9          3\n",
       "11       NaN\n",
       "12    4 Beds\n",
       "13      3 bd\n",
       "14         4\n",
       "16     Baths\n",
       "18    4 Beds\n",
       "19    4 Beds\n",
       "20      4 bd\n",
       "22     Baths\n",
       "23    4 Beds\n",
       "24    4 Beds\n",
       "27    3 Beds\n",
       "28    4 Beds\n",
       "31      4 bd\n",
       "Name: beds, dtype: object"
      ]
     },
     "execution_count": 54,
     "metadata": {},
     "output_type": "execute_result"
    }
   ],
   "source": [
    "df['beds'][0:20]"
   ]
  },
  {
   "cell_type": "code",
   "execution_count": 150,
   "metadata": {},
   "outputs": [],
   "source": [
    "# Рассмотрим признак beds\n",
    "def q_beds(x):\n",
    "    if type(x)!=float:\n",
    "\n",
    "        if 'acr' in x or 'acres' in x or 'sqft' in x:\n",
    "            return 'unknown'\n",
    "        if len(x.split(' '))==1 or x.split(' ')[1].isalpha():\n",
    "            result=x.split(' ')[0]\n",
    "        else:\n",
    "            result=x.split(' ')[1]\n",
    "       \n",
    "        if result in ['bd', 'Bath','Baths']:\n",
    "            result=2 #неизвестная заменяем на моду\n",
    "       \n",
    "        elif '.' in result and result[0]!='0':\n",
    "            result=int(x[0:-2])    \n",
    "        else:\n",
    "            result=result\n",
    "    else:\n",
    "        result=None\n",
    "    return result"
   ]
  },
  {
   "cell_type": "code",
   "execution_count": 151,
   "metadata": {},
   "outputs": [],
   "source": [
    "df['q_beds'] = df['beds'].apply(q_beds)"
   ]
  },
  {
   "cell_type": "code",
   "execution_count": 152,
   "metadata": {},
   "outputs": [],
   "source": [
    "df['q_beds'] = df['q_beds'].fillna(3)\n",
    "df['q_beds'] = df['q_beds'].apply(lambda x: int(x) if type(x)==int or x.isnumeric() else 0)"
   ]
  },
  {
   "cell_type": "markdown",
   "metadata": {},
   "source": [
    "### schools"
   ]
  },
  {
   "cell_type": "code",
   "execution_count": 61,
   "metadata": {},
   "outputs": [
    {
     "name": "stdout",
     "output_type": "stream",
     "text": [
      "пример1:  [{'rating': ['4', '4', '7', 'NR', '4', '7', 'NR', 'NR'], 'data': {'Distance': ['2.7 mi', '3.6 mi', '5.1 mi', '4.0 mi', '10.5 mi', '12.6 mi', '2.7 mi', '3.1 mi'], 'Grades': ['3–5', '6–8', '9–12', 'PK–2', '6–8', '9–12', 'PK–5', 'K–12']}, 'name': ['Southern Pines Elementary School', 'Southern Middle School', 'Pinecrest High School', 'Southern Pines Primary School', \"Crain's Creek Middle School\", 'Union Pines High School', 'Episcopal Day Private School', 'Calvary Christian Private School']}]\n",
      "пример3:  [{'rating': ['3/10', '1/10', '3/10'], 'data': {'Distance': ['1.5 mi', '1.3 mi', '1.1 mi'], 'Grades': ['PK-5', '6-8', '9-12']}, 'name': ['Washington Shores Elementary School', 'Carver Middle School', 'Jones High School']}]\n"
     ]
    }
   ],
   "source": [
    "# рассмотрим признак школа\n",
    "print('пример1: ', df['schools'][0])\n",
    "print('пример3: ', df['schools'][377176])"
   ]
  },
  {
   "cell_type": "markdown",
   "metadata": {},
   "source": [
    "Из данных видим информацию о школах: райтинг школ, расстояние до школы, какие классы, названия школ.  \n",
    "Извлечем из этих данных 4 признака: средний рейтинг школ, максимальный рейтинг школы, среднее рассторяени, минимальное расстояние до школы.  \n",
    "Эти признаки могут влиять на цену недвижимости"
   ]
  },
  {
   "cell_type": "code",
   "execution_count": 153,
   "metadata": {},
   "outputs": [],
   "source": [
    "# функция для поиска среднего рейтинга школ\n",
    "def sch_rating_mean(el):\n",
    "    rating_list_num = []\n",
    "    rating_list = eval(el[1:-1])['rating']\n",
    "    if len(rating_list) == 0:\n",
    "        r_mean = 0\n",
    "        return r_mean\n",
    "    for i in rating_list:\n",
    "        if i=='' or i==None or i=='NR' or i[0]=='N':\n",
    "            pass\n",
    "        else:\n",
    "            if '/' in i:\n",
    "                n=int(i.split('/')[0])\n",
    "            else:\n",
    "                if i.isnumeric() == True:\n",
    "                    n = int(i) \n",
    "                else:\n",
    "                    pass\n",
    "            rating_list_num.append(n)\n",
    "    if len(rating_list_num) == 0:\n",
    "        r_mean = 0\n",
    "    else:\n",
    "        r_mean = round(sum(rating_list_num) /len(rating_list_num), 2)\n",
    "    return r_mean"
   ]
  },
  {
   "cell_type": "code",
   "execution_count": 154,
   "metadata": {},
   "outputs": [],
   "source": [
    "df['sch_rating_mean'] = df['schools'].apply(sch_rating_mean)"
   ]
  },
  {
   "cell_type": "code",
   "execution_count": 155,
   "metadata": {},
   "outputs": [],
   "source": [
    "# функция для поиска максимального рейтинга школ\n",
    "def sch_rating_max(el):\n",
    "    rating_list_num = []\n",
    "    rating_list = eval(el[1:-1])['rating']\n",
    "    if len(rating_list) == 0:      \n",
    "        r_max = 0\n",
    "        return r_max\n",
    "    for i in rating_list:\n",
    "        if i=='' or i[0]=='N':\n",
    "            pass\n",
    "        else:\n",
    "            if '/' in i:\n",
    "                n=int(i.split('/')[0])\n",
    "            else:\n",
    "                if i.isnumeric() == True:   \n",
    "                    n = int(i) \n",
    "                else:\n",
    "                    pass\n",
    "            rating_list_num.append(n)\n",
    "    if len(rating_list_num) == 0: \n",
    "        r_max = 0\n",
    "    else:       \n",
    "        r_max = max(rating_list_num)\n",
    "    return r_max"
   ]
  },
  {
   "cell_type": "code",
   "execution_count": 156,
   "metadata": {},
   "outputs": [],
   "source": [
    "df['sch_rating_max'] = df['schools'].apply(sch_rating_max)"
   ]
  },
  {
   "cell_type": "code",
   "execution_count": 158,
   "metadata": {},
   "outputs": [],
   "source": [
    "#  функцию вычисляет среднее расстояние до школы\n",
    "def sch_dist_mean(el):\n",
    "    dist_list_num = []\n",
    "    dist_list = eval(el[1:-1])['data']['Distance']\n",
    "    if len(dist_list) == 0:\n",
    "        r_mean = 0\n",
    "        return r_mean\n",
    "    for i in dist_list:\n",
    "        if i=='':\n",
    "            pass\n",
    "        else:\n",
    "            n = float(i[:-2])\n",
    "            dist_list_num.append(n)\n",
    "    return round(sum(dist_list_num)/len(dist_list_num), 2)"
   ]
  },
  {
   "cell_type": "code",
   "execution_count": 159,
   "metadata": {},
   "outputs": [],
   "source": [
    "df['sch_dist_mean'] = df['schools'].apply(sch_dist_mean)"
   ]
  },
  {
   "cell_type": "code",
   "execution_count": 160,
   "metadata": {},
   "outputs": [],
   "source": [
    "#  функцию вычисляет  расстояние до ближайшей школы.\n",
    "def sch_dist_min(el):\n",
    "    dist_list_num = []\n",
    "    dist_list = eval(el[1:-1])['data']['Distance']\n",
    "    if len(dist_list) == 0:\n",
    "        r_min = 0\n",
    "        return r_min\n",
    "    for i in dist_list:\n",
    "        if i=='':\n",
    "            pass\n",
    "        else:\n",
    "            n = float(i[:-2])\n",
    "            dist_list_num.append(n)\n",
    "    return min(dist_list_num)"
   ]
  },
  {
   "cell_type": "code",
   "execution_count": 161,
   "metadata": {},
   "outputs": [],
   "source": [
    "df['sch_dist_min'] = df['schools'].apply(sch_dist_min)"
   ]
  },
  {
   "cell_type": "markdown",
   "metadata": {},
   "source": [
    "### homeFacts "
   ]
  },
  {
   "cell_type": "code",
   "execution_count": 70,
   "metadata": {},
   "outputs": [
    {
     "data": {
      "text/plain": [
       "\"{'atAGlanceFacts': [{'factValue': '1920', 'factLabel': 'Year built'}, {'factValue': '', 'factLabel': 'Remodeled year'}, {'factValue': 'Forced Air', 'factLabel': 'Heating'}, {'factValue': 'Central', 'factLabel': 'Cooling'}, {'factValue': '', 'factLabel': 'Parking'}, {'factValue': '680 sqft', 'factLabel': 'lotsize'}, {'factValue': '$233/sqft', 'factLabel': 'Price/sqft'}]}\""
      ]
     },
     "execution_count": 70,
     "metadata": {},
     "output_type": "execute_result"
    }
   ],
   "source": [
    "# рассмотрим признак homeFacts        \n",
    "df['homeFacts'][5]"
   ]
  },
  {
   "cell_type": "markdown",
   "metadata": {},
   "source": [
    "В словаре видим данные о доме и их значения, созданим из них новые признаки и заполним"
   ]
  },
  {
   "cell_type": "code",
   "execution_count": 162,
   "metadata": {},
   "outputs": [
    {
     "name": "stdout",
     "output_type": "stream",
     "text": [
      "['Year built', 'Remodeled year', 'Heating', 'Cooling', 'Parking', 'lotsize', 'Price/sqft']\n"
     ]
    }
   ],
   "source": [
    "#  создадим список новых столбцов\n",
    "new_feat = []\n",
    "fact_list = eval(df['homeFacts'][100])['atAGlanceFacts']\n",
    "for i in fact_list:\n",
    "    f = i['factLabel']\n",
    "    new_feat.append(f)\n",
    "# Посмотрим новые признаки    \n",
    "print(new_feat)"
   ]
  },
  {
   "cell_type": "code",
   "execution_count": 163,
   "metadata": {},
   "outputs": [],
   "source": [
    "# заполним их\n",
    "def new_features(df, st):\n",
    "    for el in new_feat:\n",
    "        df[el] = df[st].apply(lambda x: eval(x)['atAGlanceFacts'][new_feat.index(el)]['factValue'])\n",
    "    return df"
   ]
  },
  {
   "cell_type": "code",
   "execution_count": 164,
   "metadata": {},
   "outputs": [],
   "source": [
    "df = new_features(df, 'homeFacts')"
   ]
  },
  {
   "cell_type": "code",
   "execution_count": 183,
   "metadata": {},
   "outputs": [],
   "source": [
    "# Удалим лишние признаки\n",
    "df.drop(['propertyType', 'baths', 'homeFacts', 'schools', 'zipcode'], axis = 1, inplace=True)"
   ]
  },
  {
   "cell_type": "code",
   "execution_count": 59,
   "metadata": {},
   "outputs": [
    {
     "data": {
      "text/plain": [
       "Heating\n",
       "Forced Air                     0.265064\n",
       "                               0.187501\n",
       "Forced air                     0.160929\n",
       "Other                          0.092517\n",
       "No Data                        0.024962\n",
       "Central Electric               0.024316\n",
       "Gas                            0.023956\n",
       "Electric                       0.022455\n",
       "Heat Pump                      0.020217\n",
       "Central Air                    0.016205\n",
       "Central                        0.014981\n",
       "Baseboard                      0.012218\n",
       "Central, Electric              0.012064\n",
       "Electric Heat                  0.011171\n",
       "Wall                           0.010619\n",
       "Heat pump                      0.008953\n",
       "Heating System                 0.008795\n",
       "Forced air, Heat pump          0.005447\n",
       "Natural Gas Heat               0.004861\n",
       "Radiant                        0.003896\n",
       "Central Air, Ceiling Fan(s)    0.003273\n",
       "Forced Air, Gas                0.003007\n",
       "Gas Heat                       0.002834\n",
       ", Gas Hot Air/Furnace          0.002740\n",
       "Forced Air Heating             0.002399\n",
       "Central Gas                    0.002278\n",
       "Forced Air, Natural Gas        0.002256\n",
       "Central Heating                0.002237\n",
       "Central Electric, Zoned        0.001948\n",
       "Central Electric, Heat Pump    0.001843\n",
       "Name: proportion, dtype: float64"
      ]
     },
     "execution_count": 59,
     "metadata": {},
     "output_type": "execute_result"
    }
   ],
   "source": [
    "# рассмотрим признак отопление\n",
    "df['Heating'].value_counts(normalize=True)[0:30]"
   ]
  },
  {
   "cell_type": "markdown",
   "metadata": {},
   "source": [
    "окодо  30% нет данных \n",
    "значения не очень понятны, здесь надо бы доп. запрос по осноным видам отоплений так непонятно как их делить или объединять, поэтому удалим данный признак"
   ]
  },
  {
   "cell_type": "code",
   "execution_count": 320,
   "metadata": {},
   "outputs": [
    {
     "data": {
      "text/plain": [
       "Central                                            0.424901\n",
       "                                                   0.322257\n",
       "Central Air                                        0.038501\n",
       "No Data                                            0.028413\n",
       "Has Cooling                                        0.026044\n",
       "None                                               0.019780\n",
       "Central Electric                                   0.016472\n",
       "Wall                                               0.010752\n",
       "Central Gas                                        0.009564\n",
       "Central Heating                                    0.007513\n",
       "Cooling System                                     0.007227\n",
       "Central A/C                                        0.005490\n",
       "Other                                              0.004925\n",
       "Central A/C (Electric), Central Heat (Gas)         0.004406\n",
       "Central A/C (Electric), Central Heat (Electric)    0.003825\n",
       "Refrigeration                                      0.002877\n",
       "Central, Electric                                  0.002837\n",
       "Electric                                           0.002709\n",
       "Evaporative                                        0.002706\n",
       "Central Air, Gas Hot Air/Furnace                   0.002214\n",
       "Refrigeration, Ceiling Fan(s)                      0.002107\n",
       "Central Gas, Zoned                                 0.001999\n",
       "Central, Wall                                      0.001938\n",
       "Air Conditioning-Central                           0.001705\n",
       "Has Heating                                        0.001558\n",
       "2 or More Units, Central, Electric                 0.001526\n",
       "Central Air, Gas (Hot Air)                         0.001349\n",
       "Central Electric, Zoned                            0.001245\n",
       "Central Air, Zoned                                 0.001210\n",
       "Solar, Refrigeration                               0.001143\n",
       "Name: Cooling, dtype: float64"
      ]
     },
     "execution_count": 320,
     "metadata": {},
     "output_type": "execute_result"
    }
   ],
   "source": [
    "df['Cooling'].value_counts(normalize=True)[0:30]"
   ]
  },
  {
   "cell_type": "markdown",
   "metadata": {},
   "source": [
    "Тоже не понятно как делить, удалим признак"
   ]
  },
  {
   "cell_type": "code",
   "execution_count": 326,
   "metadata": {},
   "outputs": [
    {
     "data": {
      "text/plain": [
       "                                    0.459971\n",
       "Attached Garage                     0.189367\n",
       "2 spaces                            0.075109\n",
       "1 space                             0.038148\n",
       "No Data                             0.035688\n",
       "Detached Garage                     0.035332\n",
       "Carport                             0.020725\n",
       "3 spaces                            0.012644\n",
       "Off Street                          0.009695\n",
       "Carport, Attached Garage            0.008097\n",
       "1                                   0.007859\n",
       "4 spaces                            0.007808\n",
       "2                                   0.007377\n",
       "None                                0.006330\n",
       "Off street                          0.004435\n",
       "Attached Garage, Detached Garage    0.003624\n",
       "On Street                           0.003324\n",
       "0                                   0.002982\n",
       "Attached Garage, Carport            0.002658\n",
       "Parking Desc                        0.002409\n",
       "6 spaces                            0.002021\n",
       "Detached Garage, Attached Garage    0.001943\n",
       "Driveway                            0.001855\n",
       "5 spaces                            0.001753\n",
       "4                                   0.001614\n",
       "On street                           0.001245\n",
       "Parking Type                        0.001196\n",
       "Off Street, Attached Garage         0.001196\n",
       "3                                   0.001188\n",
       "Off street parking                  0.001151\n",
       "Name: Parking, dtype: float64"
      ]
     },
     "execution_count": 326,
     "metadata": {},
     "output_type": "execute_result"
    }
   ],
   "source": [
    "df['Parking'].value_counts(normalize=True)[0:30]"
   ]
  },
  {
   "cell_type": "markdown",
   "metadata": {},
   "source": [
    "45% пустых значений, удалим"
   ]
  },
  {
   "cell_type": "code",
   "execution_count": 75,
   "metadata": {},
   "outputs": [
    {
     "data": {
      "text/plain": [
       "0         2019\n",
       "1         2019\n",
       "5         1920\n",
       "6         2006\n",
       "8         1970\n",
       "          ... \n",
       "377176    1962\n",
       "377177    1921\n",
       "377178    2019\n",
       "377182    1950\n",
       "377184    2019\n",
       "Name: Year built, Length: 218744, dtype: object"
      ]
     },
     "execution_count": 75,
     "metadata": {},
     "output_type": "execute_result"
    }
   ],
   "source": [
    "# Рассмотрим признака Year built ()\n",
    "df['Year built']"
   ]
  },
  {
   "cell_type": "code",
   "execution_count": 165,
   "metadata": {},
   "outputs": [],
   "source": [
    "# преобразуем признак в признак - возраст\n",
    "df['age'] = df['Year built'].apply(lambda x: 2019-int(x) if (x!=' ' and x!='' and type(x)!=float and x!=None and x!='No Data') else 0)"
   ]
  },
  {
   "cell_type": "markdown",
   "metadata": {},
   "source": [
    "рассмотрим признак Remodeled year\n"
   ]
  },
  {
   "cell_type": "code",
   "execution_count": 166,
   "metadata": {},
   "outputs": [
    {
     "data": {
      "text/plain": [
       "Remodeled year\n",
       "False    0.928844\n",
       "True     0.071156\n",
       "Name: proportion, dtype: float64"
      ]
     },
     "execution_count": 166,
     "metadata": {},
     "output_type": "execute_result"
    }
   ],
   "source": [
    "df['Remodeled year'].isna().value_counts(normalize=True)"
   ]
  },
  {
   "cell_type": "code",
   "execution_count": 167,
   "metadata": {},
   "outputs": [],
   "source": [
    "# Преобразуем признак 1 -бул ремонт, 0 - нет (или нет даных)\n",
    "df['Remodeled'] = df['Remodeled year'].apply(lambda x: 1 if (x!=None and x.isnumeric()==True) else 0)"
   ]
  },
  {
   "cell_type": "code",
   "execution_count": 168,
   "metadata": {},
   "outputs": [
    {
     "data": {
      "text/plain": [
       "0                  None\n",
       "1             5828 sqft\n",
       "5              680 sqft\n",
       "6         4,996 Sq. Ft.\n",
       "8                124582\n",
       "              ...      \n",
       "377176       7,704 sqft\n",
       "377177    7,500 Sq. Ft.\n",
       "377178          No Data\n",
       "377182       1,600 sqft\n",
       "377184       6,969 sqft\n",
       "Name: lotsize, Length: 218744, dtype: object"
      ]
     },
     "execution_count": 168,
     "metadata": {},
     "output_type": "execute_result"
    }
   ],
   "source": [
    "# рассмотрим признак\n",
    "df['lotsize']"
   ]
  },
  {
   "cell_type": "markdown",
   "metadata": {},
   "source": [
    " Признак означает - размер участка, есть в значения в acres  sqft, переведем в целый тип, к одной размерности (sqft)"
   ]
  },
  {
   "cell_type": "code",
   "execution_count": 169,
   "metadata": {},
   "outputs": [],
   "source": [
    "def lot_size(x):\n",
    "    if type(x)==int:\n",
    "        return x\n",
    "    if x==None or x=='—' or x=='' or '--' in x or x=='No Data':\n",
    "        return 0\n",
    "    else:\n",
    "        x=x.replace('.','').replace(',','')\n",
    "        if 'sq' in x or 'Sq' in x:\n",
    "            result=x.split(' ')[0]\n",
    "        elif 'acres' in x:\n",
    "            result=int(x.split(' ')[0])  #*43560 sqfr in acr\n",
    "            result=result*43560\n",
    "        else:\n",
    "            result=x\n",
    "        \n",
    "    return result\n",
    "            "
   ]
  },
  {
   "cell_type": "code",
   "execution_count": 170,
   "metadata": {},
   "outputs": [],
   "source": [
    "df['lotsize'] = df['lotsize'].apply(lot_size)"
   ]
  },
  {
   "cell_type": "code",
   "execution_count": 83,
   "metadata": {},
   "outputs": [
    {
     "data": {
      "text/plain": [
       "lotsize\n",
       "0          0.244368\n",
       "6098       0.009440\n",
       "7405       0.009193\n",
       "1132560    0.008229\n",
       "6534       0.007955\n",
       "             ...   \n",
       "4134       0.000005\n",
       "10788      0.000005\n",
       "2967       0.000005\n",
       "534046     0.000005\n",
       "9730       0.000005\n",
       "Name: proportion, Length: 14069, dtype: float64"
      ]
     },
     "execution_count": 83,
     "metadata": {},
     "output_type": "execute_result"
    }
   ],
   "source": [
    "df['lotsize'].value_counts(normalize=True)"
   ]
  },
  {
   "cell_type": "code",
   "execution_count": 171,
   "metadata": {},
   "outputs": [],
   "source": [
    "#Замним пустые значения 0\n",
    "df['lotsize'] = df['lotsize'].fillna(0)"
   ]
  },
  {
   "cell_type": "code",
   "execution_count": 172,
   "metadata": {},
   "outputs": [],
   "source": [
    "df['lotsize'] = df['lotsize'].apply(lambda x: int(x) if type(x)==int or x.isnumeric() else 0)"
   ]
  },
  {
   "cell_type": "code",
   "execution_count": 173,
   "metadata": {},
   "outputs": [],
   "source": [
    "#Значания большие, логарифрмируем признак\n",
    "df['lotsize'] = np.log(df['lotsize']+1)"
   ]
  },
  {
   "cell_type": "code",
   "execution_count": 87,
   "metadata": {},
   "outputs": [
    {
     "data": {
      "image/png": "[encoded data removed]",
      "text/plain": [
       "<Figure size 1500x400 with 2 Axes>"
      ]
     },
     "metadata": {},
     "output_type": "display_data"
    }
   ],
   "source": [
    "fig, axes = plt.subplots(nrows=1, ncols=2, figsize=(15, 4))\n",
    "histplot = sns.histplot(data=df, x='lotsize', ax=axes[0]);\n",
    "histplot.set_title('Площадь участка');\n",
    "boxplot = sns.boxplot(data=df, x='lotsize', ax=axes[1]);\n",
    "boxplot.set_title('Площадь участка');"
   ]
  },
  {
   "cell_type": "markdown",
   "metadata": {},
   "source": [
    "Из графиков видим, что не все дома продаются с участками"
   ]
  },
  {
   "cell_type": "code",
   "execution_count": 174,
   "metadata": {},
   "outputs": [
    {
     "name": "stdout",
     "output_type": "stream",
     "text": [
      "Число выбросов по методу Тьюки: 3\n",
      "Результирующее число записей: 218741\n"
     ]
    }
   ],
   "source": [
    "outliers3, cleaned3 = outliers_iqr(df, 'lotsize')\n",
    "print(f'Число выбросов по методу Тьюки: {outliers3.shape[0]}')\n",
    "print(f'Результирующее число записей: {cleaned3.shape[0]}')"
   ]
  },
  {
   "cell_type": "code",
   "execution_count": 175,
   "metadata": {},
   "outputs": [],
   "source": [
    "# всего 3 выброса, удалим их\n",
    "df = cleaned3.copy()"
   ]
  },
  {
   "cell_type": "markdown",
   "metadata": {},
   "source": [
    "### city"
   ]
  },
  {
   "cell_type": "code",
   "execution_count": 176,
   "metadata": {},
   "outputs": [
    {
     "data": {
      "text/plain": [
       "city\n",
       "False    1.0\n",
       "Name: proportion, dtype: float64"
      ]
     },
     "execution_count": 176,
     "metadata": {},
     "output_type": "execute_result"
    }
   ],
   "source": [
    "df['city'].isna().value_counts(normalize=True)"
   ]
  },
  {
   "cell_type": "code",
   "execution_count": 72,
   "metadata": {},
   "outputs": [],
   "source": [
    "# удалим путые\n",
    "df = df.dropna(subset=['city'])"
   ]
  },
  {
   "cell_type": "code",
   "execution_count": 92,
   "metadata": {},
   "outputs": [
    {
     "data": {
      "text/plain": [
       "city\n",
       "Houston         0.075999\n",
       "San Antonio     0.059463\n",
       "Miami           0.043197\n",
       "Jacksonville    0.031462\n",
       "Dallas          0.025372\n",
       "                  ...   \n",
       "Whallonsburg    0.000005\n",
       "Elmendorf       0.000005\n",
       "White Plains    0.000005\n",
       "Johns           0.000005\n",
       "Blue Springs    0.000005\n",
       "Name: proportion, Length: 1594, dtype: float64"
      ]
     },
     "execution_count": 92,
     "metadata": {},
     "output_type": "execute_result"
    }
   ],
   "source": [
    "df['city'].value_counts(normalize=True)"
   ]
  },
  {
   "cell_type": "code",
   "execution_count": 93,
   "metadata": {},
   "outputs": [
    {
     "name": "stdout",
     "output_type": "stream",
     "text": [
      "Requirement already satisfied: category_encoders in c:\\users\\lenovo\\anaconda3\\lib\\site-packages (2.6.3)Note: you may need to restart the kernel to use updated packages.\n",
      "\n",
      "Requirement already satisfied: numpy>=1.14.0 in c:\\users\\lenovo\\anaconda3\\lib\\site-packages (from category_encoders) (1.24.3)\n",
      "Requirement already satisfied: scikit-learn>=0.20.0 in c:\\users\\lenovo\\anaconda3\\lib\\site-packages (from category_encoders) (1.3.0)\n",
      "Requirement already satisfied: scipy>=1.0.0 in c:\\users\\lenovo\\anaconda3\\lib\\site-packages (from category_encoders) (1.11.1)\n",
      "Requirement already satisfied: statsmodels>=0.9.0 in c:\\users\\lenovo\\anaconda3\\lib\\site-packages (from category_encoders) (0.14.0)\n",
      "Requirement already satisfied: pandas>=1.0.5 in c:\\users\\lenovo\\anaconda3\\lib\\site-packages (from category_encoders) (2.0.3)\n",
      "Requirement already satisfied: patsy>=0.5.1 in c:\\users\\lenovo\\anaconda3\\lib\\site-packages (from category_encoders) (0.5.3)\n",
      "Requirement already satisfied: python-dateutil>=2.8.2 in c:\\users\\lenovo\\anaconda3\\lib\\site-packages (from pandas>=1.0.5->category_encoders) (2.8.2)\n",
      "Requirement already satisfied: pytz>=2020.1 in c:\\users\\lenovo\\anaconda3\\lib\\site-packages (from pandas>=1.0.5->category_encoders) (2023.3.post1)\n",
      "Requirement already satisfied: tzdata>=2022.1 in c:\\users\\lenovo\\anaconda3\\lib\\site-packages (from pandas>=1.0.5->category_encoders) (2023.3)\n",
      "Requirement already satisfied: six in c:\\users\\lenovo\\anaconda3\\lib\\site-packages (from patsy>=0.5.1->category_encoders) (1.16.0)\n",
      "Requirement already satisfied: joblib>=1.1.1 in c:\\users\\lenovo\\anaconda3\\lib\\site-packages (from scikit-learn>=0.20.0->category_encoders) (1.2.0)\n",
      "Requirement already satisfied: threadpoolctl>=2.0.0 in c:\\users\\lenovo\\anaconda3\\lib\\site-packages (from scikit-learn>=0.20.0->category_encoders) (2.2.0)\n",
      "Requirement already satisfied: packaging>=21.3 in c:\\users\\lenovo\\anaconda3\\lib\\site-packages (from statsmodels>=0.9.0->category_encoders) (23.1)\n"
     ]
    }
   ],
   "source": [
    "pip install --upgrade category_encoders"
   ]
  },
  {
   "cell_type": "code",
   "execution_count": 177,
   "metadata": {},
   "outputs": [],
   "source": [
    "# сделаем бинарное кодирование признака city\n",
    "import category_encoders as ce\n",
    "\n",
    "bin_encoder = ce.BinaryEncoder(cols=['city']) # указываем столбец для кодирования\n",
    "type_bin = bin_encoder.fit_transform(df['city'])\n",
    "df = pd.concat([df, type_bin], axis=1)"
   ]
  },
  {
   "cell_type": "code",
   "execution_count": 178,
   "metadata": {},
   "outputs": [],
   "source": [
    "# сделаем бинарное кодирование признака state\n",
    "\n",
    "bin_encoder = ce.BinaryEncoder(cols=['state']) # указываем столбец для кодирования\n",
    "type_bin = bin_encoder.fit_transform(df['state'])\n",
    "df = pd.concat([df, type_bin], axis=1)"
   ]
  },
  {
   "cell_type": "code",
   "execution_count": 179,
   "metadata": {},
   "outputs": [],
   "source": [
    "# закодируем признак тип\n",
    "df = pd.get_dummies(df, columns=['p_type']) "
   ]
  },
  {
   "cell_type": "code",
   "execution_count": 180,
   "metadata": {},
   "outputs": [
    {
     "name": "stdout",
     "output_type": "stream",
     "text": [
      "<class 'pandas.core.frame.DataFrame'>\n",
      "Index: 218741 entries, 0 to 377184\n",
      "Data columns (total 55 columns):\n",
      " #   Column                     Non-Null Count   Dtype  \n",
      "---  ------                     --------------   -----  \n",
      " 0   propertyType               214044 non-null  object \n",
      " 1   baths                      186242 non-null  object \n",
      " 2   homeFacts                  218741 non-null  object \n",
      " 3   fireplace                  218741 non-null  int64  \n",
      " 4   city                       218741 non-null  object \n",
      " 5   schools                    218741 non-null  object \n",
      " 6   sqft                       218741 non-null  float64\n",
      " 7   zipcode                    218741 non-null  object \n",
      " 8   beds                       193146 non-null  object \n",
      " 9   state                      218741 non-null  object \n",
      " 10  target                     218741 non-null  int64  \n",
      " 11  pool                       218741 non-null  int64  \n",
      " 12  q_baths                    218741 non-null  float64\n",
      " 13  q_beds                     218741 non-null  int64  \n",
      " 14  sch_rating_mean            218741 non-null  float64\n",
      " 15  sch_rating_max             218741 non-null  int64  \n",
      " 16  sch_dist_mean              218741 non-null  float64\n",
      " 17  sch_dist_min               218741 non-null  float64\n",
      " 18  Year built                 218255 non-null  object \n",
      " 19  Remodeled year             203177 non-null  object \n",
      " 20  Heating                    218255 non-null  object \n",
      " 21  Cooling                    218255 non-null  object \n",
      " 22  Parking                    218255 non-null  object \n",
      " 23  lotsize                    218741 non-null  float64\n",
      " 24  Price/sqft                 212578 non-null  object \n",
      " 25  age                        218741 non-null  int64  \n",
      " 26  Remodeled                  218741 non-null  int64  \n",
      " 27  city_0                     218741 non-null  int64  \n",
      " 28  city_1                     218741 non-null  int64  \n",
      " 29  city_2                     218741 non-null  int64  \n",
      " 30  city_3                     218741 non-null  int64  \n",
      " 31  city_4                     218741 non-null  int64  \n",
      " 32  city_5                     218741 non-null  int64  \n",
      " 33  city_6                     218741 non-null  int64  \n",
      " 34  city_7                     218741 non-null  int64  \n",
      " 35  city_8                     218741 non-null  int64  \n",
      " 36  city_9                     218741 non-null  int64  \n",
      " 37  city_10                    218741 non-null  int64  \n",
      " 38  state_0                    218741 non-null  int64  \n",
      " 39  state_1                    218741 non-null  int64  \n",
      " 40  state_2                    218741 non-null  int64  \n",
      " 41  state_3                    218741 non-null  int64  \n",
      " 42  state_4                    218741 non-null  int64  \n",
      " 43  state_5                    218741 non-null  int64  \n",
      " 44  p_type_condo               218741 non-null  bool   \n",
      " 45  p_type_contemporary        218741 non-null  bool   \n",
      " 46  p_type_coop                218741 non-null  bool   \n",
      " 47  p_type_land                218741 non-null  bool   \n",
      " 48  p_type_mobile              218741 non-null  bool   \n",
      " 49  p_type_multi family home   218741 non-null  bool   \n",
      " 50  p_type_others              218741 non-null  bool   \n",
      " 51  p_type_ranch               218741 non-null  bool   \n",
      " 52  p_type_single family home  218741 non-null  bool   \n",
      " 53  p_type_townhouse           218741 non-null  bool   \n",
      " 54  p_type_traditional         218741 non-null  bool   \n",
      "dtypes: bool(11), float64(6), int64(24), object(14)\n",
      "memory usage: 77.4+ MB\n"
     ]
    }
   ],
   "source": [
    "df.info()"
   ]
  },
  {
   "cell_type": "code",
   "execution_count": 181,
   "metadata": {},
   "outputs": [],
   "source": [
    "#Удалим лишнее столбцы \n",
    "df.drop(['city','beds', 'state', 'Year built', 'Remodeled year', 'Heating', 'Cooling', 'Parking',\n",
    "         'Price/sqft'], axis = 1, inplace=True)"
   ]
  },
  {
   "cell_type": "code",
   "execution_count": 185,
   "metadata": {},
   "outputs": [],
   "source": [
    "# функция для вывода признаков с высокой кореляцией\n",
    "def get_high_correlation(df, threshold=0.7):\n",
    "    corr = df.corr().abs()\n",
    "   # high_corr = (corr[(corr > threshold) & (corr != 1)]\n",
    "    high_corr = (corr[(corr > threshold)]\n",
    "                      .stack()\n",
    "                      .reset_index()\n",
    "                      .rename(columns={0: 'correlation', 'level_0': 'feature_1', 'level_1': 'feature_2'}))\n",
    "    high_corr = high_corr[high_corr['feature_1'] != high_corr['feature_2']].sort_values(by='correlation', ascending=False)\n",
    "                      \n",
    "    return high_corr"
   ]
  },
  {
   "cell_type": "code",
   "execution_count": 186,
   "metadata": {},
   "outputs": [
    {
     "data": {
      "text/html": [
       "<div>\n",
       "<style scoped>\n",
       "    .dataframe tbody tr th:only-of-type {\n",
       "        vertical-align: middle;\n",
       "    }\n",
       "\n",
       "    .dataframe tbody tr th {\n",
       "        vertical-align: top;\n",
       "    }\n",
       "\n",
       "    .dataframe thead th {\n",
       "        text-align: right;\n",
       "    }\n",
       "</style>\n",
       "<table border=\"1\" class=\"dataframe\">\n",
       "  <thead>\n",
       "    <tr style=\"text-align: right;\">\n",
       "      <th></th>\n",
       "      <th>feature_1</th>\n",
       "      <th>feature_2</th>\n",
       "      <th>correlation</th>\n",
       "    </tr>\n",
       "  </thead>\n",
       "  <tbody>\n",
       "    <tr>\n",
       "      <th>7</th>\n",
       "      <td>sch_rating_mean</td>\n",
       "      <td>sch_rating_max</td>\n",
       "      <td>0.854455</td>\n",
       "    </tr>\n",
       "    <tr>\n",
       "      <th>8</th>\n",
       "      <td>sch_rating_max</td>\n",
       "      <td>sch_rating_mean</td>\n",
       "      <td>0.854455</td>\n",
       "    </tr>\n",
       "  </tbody>\n",
       "</table>\n",
       "</div>"
      ],
      "text/plain": [
       "         feature_1        feature_2  correlation\n",
       "7  sch_rating_mean   sch_rating_max     0.854455\n",
       "8   sch_rating_max  sch_rating_mean     0.854455"
      ]
     },
     "metadata": {},
     "output_type": "display_data"
    }
   ],
   "source": [
    "high_corr = get_high_correlation(df)\n",
    "display(high_corr)"
   ]
  },
  {
   "cell_type": "code",
   "execution_count": 187,
   "metadata": {},
   "outputs": [],
   "source": [
    "# удалим признаки с высокой корреляцие\n",
    "df.drop(['sch_rating_max'], axis = 1, inplace=True)"
   ]
  },
  {
   "cell_type": "markdown",
   "metadata": {},
   "source": [
    "перейдем к построению модели"
   ]
  },
  {
   "cell_type": "code",
   "execution_count": 188,
   "metadata": {},
   "outputs": [],
   "source": [
    "#Составляем список факторов (исключили целевой столбец)!!!\n",
    "features = df.drop('target', axis=1).columns\n",
    "X = df[features]\n",
    "y = df['target']"
   ]
  },
  {
   "cell_type": "code",
   "execution_count": 104,
   "metadata": {},
   "outputs": [],
   "source": [
    "from sklearn.tree import DecisionTreeRegressor"
   ]
  },
  {
   "cell_type": "code",
   "execution_count": 105,
   "metadata": {},
   "outputs": [],
   "source": [
    "from sklearn.ensemble import RandomForestRegressor "
   ]
  },
  {
   "cell_type": "code",
   "execution_count": 189,
   "metadata": {},
   "outputs": [],
   "source": [
    "# Разделим выборку на тренировочную и тестовую\n",
    "X_train, X_test, y_train, y_test = train_test_split(\n",
    "    X, y, test_size=0.30, random_state=42)\n",
    "\n",
    "\n",
    "# Создаем модель дерева решений с максимальной глубиной 10\n",
    "regr1 = DecisionTreeRegressor(\n",
    "    max_depth=10, #максимальная глубина дерева\n",
    "    random_state=42 #датчик генератора случайных чисел\n",
    ")\n",
    "# Обучаем модель\n",
    "regr1.fit(X_train, y_train)\n",
    "\n",
    "\n",
    " \n",
    "# Создаем модель случайного леса из 10 деревьев с максимальной глубиной 10 для каждого дерева\n",
    "regr2 = RandomForestRegressor(\n",
    "    max_depth=10, #максимальная глубина дерева\n",
    "    n_estimators=10, #количество деревьев в ансамбле\n",
    "    random_state=42 #датчик генератора случайных чисел\n",
    ")\n",
    "# Обучаем модель\n",
    "regr2.fit(X_train, y_train)\n",
    "\n",
    "\n",
    "# Формируем предсказания каждой из моделей\n",
    "y_pred1 = regr1.predict(X_test)\n",
    "y_pred2 = regr2.predict(X_test)"
   ]
  },
  {
   "cell_type": "code",
   "execution_count": 190,
   "metadata": {},
   "outputs": [
    {
     "name": "stdout",
     "output_type": "stream",
     "text": [
      "RMSE score: 101925.636  $\n",
      "RMSE score: 96055.139  $\n",
      "MAPE score: 28.486 %\n",
      "MAPE score: 27.319 %\n",
      "R2 score: 0.442\n",
      "R2 score: 0.504\n"
     ]
    }
   ],
   "source": [
    "#Рассчитываем RMSE\n",
    "print('RMSE score: {:.3f}  $'.format(np.sqrt(metrics.mean_squared_error(y_test, y_pred1))))\n",
    "print('RMSE score: {:.3f}  $'.format(np.sqrt(metrics.mean_squared_error(y_test, y_pred2))))\n",
    "#Рассчитываем MAPE\n",
    "print('MAPE score: {:.3f} %'.format(metrics.mean_absolute_percentage_error(y_test, y_pred1) * 100))\n",
    "print('MAPE score: {:.3f} %'.format(metrics.mean_absolute_percentage_error(y_test, y_pred2) * 100))\n",
    "#Рассчитываем коэффициент детерминации\n",
    "print('R2 score: {:.3f}'.format(metrics.r2_score(y_test, y_pred1)))\n",
    "print('R2 score: {:.3f}'.format(metrics.r2_score(y_test, y_pred2)))"
   ]
  },
  {
   "cell_type": "markdown",
   "metadata": {},
   "source": [
    "Видим, что модель случайного леса предсказывает лучше"
   ]
  },
  {
   "cell_type": "code",
   "execution_count": 108,
   "metadata": {},
   "outputs": [],
   "source": [
    "# col_names = list(df.columns)\n",
    "# # инициализируем нормализатор RobustScaler\n",
    "# r_scaler = preprocessing.RobustScaler()\n",
    "\n",
    "# # кодируем исходный датасет\n",
    "# df_r = r_scaler.fit_transform(df)\n",
    "\n",
    "# # Преобразуем промежуточный датасет в полноценный датафрейм \n",
    "# df_r = pd.DataFrame(df_r, columns=col_names)"
   ]
  },
  {
   "cell_type": "code",
   "execution_count": 109,
   "metadata": {},
   "outputs": [],
   "source": [
    "# features = df_r.drop('target', axis=1).columns\n",
    "# X = df_r[features]\n",
    "# y = df_r['target']"
   ]
  },
  {
   "cell_type": "code",
   "execution_count": 110,
   "metadata": {},
   "outputs": [
    {
     "name": "stdout",
     "output_type": "stream",
     "text": [
      "RMSE score: 0  $\n",
      "MAPE score: 94849215666477.594 %\n",
      "R2 score: 0.504\n"
     ]
    }
   ],
   "source": [
    "# # Разделим выборку на тренировочную и тестовую\n",
    "# X_train, X_test, y_train, y_test = train_test_split(\n",
    "#     X, y, test_size=0.30, random_state=42)\n",
    "\n",
    " \n",
    "# # Создаем модель случайного леса из 10 деревьев с максимальной глубиной 10 для каждого дерева\n",
    "# regr2 = RandomForestRegressor(\n",
    "#     max_depth=10, #максимальная глубина дерева\n",
    "#     n_estimators=10, #количество деревьев в ансамбле\n",
    "#     random_state=42 #датчик генератора случайных чисел\n",
    "# )\n",
    "# # Обучаем модель\n",
    "# regr2.fit(X_train, y_train)\n",
    "\n",
    "\n",
    "# # Формируем предсказания каждой из моделей\n",
    "# #y_pred1 = regr1.predict(X_test)\n",
    "# y_pred2 = regr2.predict(X_test)\n",
    " \n",
    "\n",
    "# #Рассчитываем RMSE\n",
    "# #print('RMSE score: {:.0f}  $'.format(np.sqrt(metrics.mean_squared_error(y_test, y_pred1))))\n",
    "# print('RMSE score: {:.0f}  $'.format(np.sqrt(metrics.mean_squared_error(y_test, y_pred2))))\n",
    "# #Рассчитываем MAPE\n",
    "# #print('MAPE score: {:.3f} %'.format(metrics.mean_absolute_percentage_error(y_test, y_pred1) * 100))\n",
    "# print('MAPE score: {:.3f} %'.format(metrics.mean_absolute_percentage_error(y_test, y_pred2) * 100))\n",
    "# #Рассчитываем коэффициент детерминации\n",
    "# #print('R2 score: {:.3f}'.format(metrics.r2_score(y_test, y_pred1)))\n",
    "# print('R2 score: {:.3f}'.format(metrics.r2_score(y_test, y_pred2)))"
   ]
  },
  {
   "cell_type": "code",
   "execution_count": 191,
   "metadata": {},
   "outputs": [
    {
     "data": {
      "text/plain": [
       "<Axes: >"
      ]
     },
     "execution_count": 191,
     "metadata": {},
     "output_type": "execute_result"
    },
    {
     "data": {
      "image/png": "[encoded data removed]",
      "text/plain": [
       "<Figure size 1500x2000 with 1 Axes>"
      ]
     },
     "metadata": {},
     "output_type": "display_data"
    }
   ],
   "source": [
    "# оценим  значимость признаков\n",
    "from sklearn.feature_selection import f_classif\n",
    "\n",
    "y = df.target.values\n",
    "X = df.drop(['target'], axis=1)\n",
    "\n",
    "# визуализируем результат анализа значимости:\n",
    "feat_importances = pd.Series(f_classif(X[X.columns], y)[0], index = X.columns)\n",
    "feat_importances.sort_values(inplace = True)\n",
    "\n",
    "\n",
    "\n",
    "fig5, ax5 = plt.subplots(figsize=(15, 20))\n",
    "feat_importances.plot(kind = 'barh')"
   ]
  },
  {
   "cell_type": "code",
   "execution_count": 192,
   "metadata": {},
   "outputs": [
    {
     "name": "stdout",
     "output_type": "stream",
     "text": [
      "<class 'pandas.core.frame.DataFrame'>\n",
      "Index: 218741 entries, 0 to 377184\n",
      "Data columns (total 33 columns):\n",
      " #   Column                     Non-Null Count   Dtype  \n",
      "---  ------                     --------------   -----  \n",
      " 0   fireplace                  218741 non-null  int64  \n",
      " 1   sqft                       218741 non-null  float64\n",
      " 2   target                     218741 non-null  int64  \n",
      " 3   pool                       218741 non-null  int64  \n",
      " 4   q_beds                     218741 non-null  int64  \n",
      " 5   sch_rating_mean            218741 non-null  float64\n",
      " 6   sch_dist_mean              218741 non-null  float64\n",
      " 7   sch_dist_min               218741 non-null  float64\n",
      " 8   lotsize                    218741 non-null  float64\n",
      " 9   Remodeled                  218741 non-null  int64  \n",
      " 10  city_0                     218741 non-null  int64  \n",
      " 11  city_1                     218741 non-null  int64  \n",
      " 12  city_2                     218741 non-null  int64  \n",
      " 13  city_3                     218741 non-null  int64  \n",
      " 14  city_4                     218741 non-null  int64  \n",
      " 15  city_5                     218741 non-null  int64  \n",
      " 16  city_6                     218741 non-null  int64  \n",
      " 17  city_7                     218741 non-null  int64  \n",
      " 18  city_8                     218741 non-null  int64  \n",
      " 19  city_9                     218741 non-null  int64  \n",
      " 20  city_10                    218741 non-null  int64  \n",
      " 21  state_0                    218741 non-null  int64  \n",
      " 22  state_1                    218741 non-null  int64  \n",
      " 23  state_2                    218741 non-null  int64  \n",
      " 24  state_3                    218741 non-null  int64  \n",
      " 25  state_4                    218741 non-null  int64  \n",
      " 26  state_5                    218741 non-null  int64  \n",
      " 27  p_type_condo               218741 non-null  bool   \n",
      " 28  p_type_mobile              218741 non-null  bool   \n",
      " 29  p_type_multi family home   218741 non-null  bool   \n",
      " 30  p_type_others              218741 non-null  bool   \n",
      " 31  p_type_single family home  218741 non-null  bool   \n",
      " 32  p_type_townhouse           218741 non-null  bool   \n",
      "dtypes: bool(6), float64(5), int64(22)\n",
      "memory usage: 48.0 MB\n"
     ]
    }
   ],
   "source": [
    "# посмотрим наименее значимые и удалим их\n",
    "lst_for_drop = feat_importances.nsmallest(7).index.to_list()\n",
    "df2 = df.copy()\n",
    "df2.drop(lst_for_drop, axis = 1, inplace=True)\n",
    "df2.info() "
   ]
  },
  {
   "cell_type": "code",
   "execution_count": 193,
   "metadata": {},
   "outputs": [],
   "source": [
    "features = df2.drop('target', axis=1).columns\n",
    "X = df2[features]\n",
    "y = df2['target']"
   ]
  },
  {
   "cell_type": "code",
   "execution_count": 194,
   "metadata": {},
   "outputs": [
    {
     "name": "stdout",
     "output_type": "stream",
     "text": [
      "RMSE score: 98230  $\n",
      "MAPE score: 27.945 %\n",
      "R2 score: 0.481\n"
     ]
    }
   ],
   "source": [
    "# Разделим выборку на тренировочную и тестовую\n",
    "X_train, X_test, y_train, y_test = train_test_split(\n",
    "    X, y, test_size=0.30, random_state=42)\n",
    "\n",
    "#Случайный лес показывает более хорошие результаты, стром модель на нем\n",
    " \n",
    "# Создаем модель случайного леса из 10 деревьев с максимальной глубиной 10 для каждого дерева\n",
    "regr2 = RandomForestRegressor(\n",
    "    max_depth=10, #максимальная глубина дерева\n",
    "    n_estimators=10, #количество деревьев в ансамбле\n",
    "    random_state=42 #датчик генератора случайных чисел\n",
    ")\n",
    "# Обучаем модель\n",
    "regr2.fit(X_train, y_train)\n",
    "\n",
    "\n",
    "# Формируем предсказания каждой из моделей\n",
    "#y_pred1 = regr1.predict(X_test)\n",
    "y_pred2 = regr2.predict(X_test)\n",
    " \n",
    "# Оцениваем качество по метрике MSE\n",
    "#Рассчитываем RMSE\n",
    "#print('RMSE score: {:.0f}  $'.format(np.sqrt(metrics.mean_squared_error(y_test, y_pred1))))\n",
    "print('RMSE score: {:.0f}  $'.format(np.sqrt(metrics.mean_squared_error(y_test, y_pred2))))\n",
    "#Рассчитываем MAPE\n",
    "#print('MAPE score: {:.3f} %'.format(metrics.mean_absolute_percentage_error(y_test, y_pred1) * 100))\n",
    "print('MAPE score: {:.3f} %'.format(metrics.mean_absolute_percentage_error(y_test, y_pred2) * 100))\n",
    "#Рассчитываем коэффициент детерминации\n",
    "#print('R2 score: {:.3f}'.format(metrics.r2_score(y_test, y_pred1)))\n",
    "print('R2 score: {:.3f}'.format(metrics.r2_score(y_test, y_pred2)))"
   ]
  },
  {
   "cell_type": "markdown",
   "metadata": {},
   "source": [
    "После удаления признаков, метрики ухудшились"
   ]
  },
  {
   "cell_type": "markdown",
   "metadata": {},
   "source": [
    "Оставим данные без удаления признаков, увеличим глубину и число деревьев в ансамбле"
   ]
  },
  {
   "cell_type": "code",
   "execution_count": 195,
   "metadata": {},
   "outputs": [],
   "source": [
    "features = df.drop('target', axis=1).columns\n",
    "X = df[features]\n",
    "y = df['target']"
   ]
  },
  {
   "cell_type": "code",
   "execution_count": 196,
   "metadata": {},
   "outputs": [
    {
     "name": "stdout",
     "output_type": "stream",
     "text": [
      "RMSE score: 78679  $\n",
      "MAPE score: 20.960 %\n",
      "R2 score: 0.667\n"
     ]
    }
   ],
   "source": [
    "# Разделим выборку на тренировочную и тестовую\n",
    "X_train, X_test, y_train, y_test = train_test_split(\n",
    "    X, y, test_size=0.30, random_state=42)\n",
    "\n",
    " \n",
    "# Создаем модель случайного леса из 10 деревьев с максимальной глубиной 10 для каждого дерева\n",
    "regr2 = RandomForestRegressor(\n",
    "    max_depth=15, #максимальная глубина дерева\n",
    "    n_estimators=20, #количество деревьев в ансамбле\n",
    "    random_state=42 #датчик генератора случайных чисел\n",
    ")\n",
    "# Обучаем модель\n",
    "regr2.fit(X_train, y_train)\n",
    "\n",
    "\n",
    "# Формируем предсказания каждой из моделей\n",
    "#y_pred1 = regr1.predict(X_test)\n",
    "y_pred2 = regr2.predict(X_test)\n",
    " \n",
    "\n",
    "#Рассчитываем RMSE\n",
    "#print('RMSE score: {:.0f}  $'.format(np.sqrt(metrics.mean_squared_error(y_test, y_pred1))))\n",
    "print('RMSE score: {:.0f}  $'.format(np.sqrt(metrics.mean_squared_error(y_test, y_pred2))))\n",
    "#Рассчитываем MAPE\n",
    "#print('MAPE score: {:.3f} %'.format(metrics.mean_absolute_percentage_error(y_test, y_pred1) * 100))\n",
    "print('MAPE score: {:.3f} %'.format(metrics.mean_absolute_percentage_error(y_test, y_pred2) * 100))\n",
    "#Рассчитываем коэффициент детерминации\n",
    "#print('R2 score: {:.3f}'.format(metrics.r2_score(y_test, y_pred1)))\n",
    "print('R2 score: {:.3f}'.format(metrics.r2_score(y_test, y_pred2)))"
   ]
  },
  {
   "cell_type": "markdown",
   "metadata": {},
   "source": [
    "Итак, мы получили модель со следующими метриками:  \n",
    "RMSE score: 78679  $  \n",
    "MAPE score: 20.960 %  \n",
    "R2 score: 0.667  \n",
    "    \n",
    "Модель можно доработать, запрпосив дополнительные данные у заказчика, уточнения по признакам (отопление, типы недвижимости и др.)  \n",
    "Может стоило построить отдельные модели исходя из типов недвижимости"
   ]
  }
 ],
 "metadata": {
  "kernelspec": {
   "display_name": "Python 3 (ipykernel)",
   "language": "python",
   "name": "python3"
  },
  "language_info": {
   "codemirror_mode": {
    "name": "ipython",
    "version": 3
   },
   "file_extension": ".py",
   "mimetype": "text/x-python",
   "name": "python",
   "nbconvert_exporter": "python",
   "pygments_lexer": "ipython3",
   "version": "3.11.5"
  }
 },
 "nbformat": 4,
 "nbformat_minor": 4
}
